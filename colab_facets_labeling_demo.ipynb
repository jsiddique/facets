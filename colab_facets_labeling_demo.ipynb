{
  "nbformat": 4,
  "nbformat_minor": 0,
  "metadata": {
    "colab": {
      "name": "colab_facets_labeling_demo.ipynb",
      "provenance": [],
      "collapsed_sections": []
    },
    "kernelspec": {
      "name": "python3",
      "display_name": "Python 3"
    },
    "widgets": {
      "application/vnd.jupyter.widget-state+json": {
        "f947580cfcd14b69b4121bc399ce0320": {
          "model_module": "@jupyter-widgets/controls",
          "model_name": "HBoxModel",
          "state": {
            "_view_name": "HBoxView",
            "_dom_classes": [],
            "_model_name": "HBoxModel",
            "_view_module": "@jupyter-widgets/controls",
            "_model_module_version": "1.5.0",
            "_view_count": null,
            "_view_module_version": "1.5.0",
            "box_style": "",
            "layout": "IPY_MODEL_fdea9c6a048148daa9ab665d48b2e08f",
            "_model_module": "@jupyter-widgets/controls",
            "children": [
              "IPY_MODEL_8d1b5b8af05f456ba98677cb3597a3b1",
              "IPY_MODEL_8711090c653c49c18fc292f6fb5a6225"
            ]
          }
        },
        "fdea9c6a048148daa9ab665d48b2e08f": {
          "model_module": "@jupyter-widgets/base",
          "model_name": "LayoutModel",
          "state": {
            "_view_name": "LayoutView",
            "grid_template_rows": null,
            "right": null,
            "justify_content": null,
            "_view_module": "@jupyter-widgets/base",
            "overflow": null,
            "_model_module_version": "1.2.0",
            "_view_count": null,
            "flex_flow": null,
            "width": null,
            "min_width": null,
            "border": null,
            "align_items": null,
            "bottom": null,
            "_model_module": "@jupyter-widgets/base",
            "top": null,
            "grid_column": null,
            "overflow_y": null,
            "overflow_x": null,
            "grid_auto_flow": null,
            "grid_area": null,
            "grid_template_columns": null,
            "flex": null,
            "_model_name": "LayoutModel",
            "justify_items": null,
            "grid_row": null,
            "max_height": null,
            "align_content": null,
            "visibility": null,
            "align_self": null,
            "height": null,
            "min_height": null,
            "padding": null,
            "grid_auto_rows": null,
            "grid_gap": null,
            "max_width": null,
            "order": null,
            "_view_module_version": "1.2.0",
            "grid_template_areas": null,
            "object_position": null,
            "object_fit": null,
            "grid_auto_columns": null,
            "margin": null,
            "display": null,
            "left": null
          }
        },
        "8d1b5b8af05f456ba98677cb3597a3b1": {
          "model_module": "@jupyter-widgets/controls",
          "model_name": "FloatProgressModel",
          "state": {
            "_view_name": "ProgressView",
            "style": "IPY_MODEL_324866ac41604e9d9e01cc78cc2288ea",
            "_dom_classes": [],
            "description": "Dl Completed...: 100%",
            "_model_name": "FloatProgressModel",
            "bar_style": "success",
            "max": 4,
            "_view_module": "@jupyter-widgets/controls",
            "_model_module_version": "1.5.0",
            "value": 4,
            "_view_count": null,
            "_view_module_version": "1.5.0",
            "orientation": "horizontal",
            "min": 0,
            "description_tooltip": null,
            "_model_module": "@jupyter-widgets/controls",
            "layout": "IPY_MODEL_b69ee31bd8f14f42a96ad3e7961b976a"
          }
        },
        "8711090c653c49c18fc292f6fb5a6225": {
          "model_module": "@jupyter-widgets/controls",
          "model_name": "HTMLModel",
          "state": {
            "_view_name": "HTMLView",
            "style": "IPY_MODEL_fc2e8844f46c40a8a48c238bc821123e",
            "_dom_classes": [],
            "description": "",
            "_model_name": "HTMLModel",
            "placeholder": "​",
            "_view_module": "@jupyter-widgets/controls",
            "_model_module_version": "1.5.0",
            "value": " 4/4 [00:02&lt;00:00,  1.92 file/s]",
            "_view_count": null,
            "_view_module_version": "1.5.0",
            "description_tooltip": null,
            "_model_module": "@jupyter-widgets/controls",
            "layout": "IPY_MODEL_db07174a2236447e9b082756afad6d4f"
          }
        },
        "324866ac41604e9d9e01cc78cc2288ea": {
          "model_module": "@jupyter-widgets/controls",
          "model_name": "ProgressStyleModel",
          "state": {
            "_view_name": "StyleView",
            "_model_name": "ProgressStyleModel",
            "description_width": "initial",
            "_view_module": "@jupyter-widgets/base",
            "_model_module_version": "1.5.0",
            "_view_count": null,
            "_view_module_version": "1.2.0",
            "bar_color": null,
            "_model_module": "@jupyter-widgets/controls"
          }
        },
        "b69ee31bd8f14f42a96ad3e7961b976a": {
          "model_module": "@jupyter-widgets/base",
          "model_name": "LayoutModel",
          "state": {
            "_view_name": "LayoutView",
            "grid_template_rows": null,
            "right": null,
            "justify_content": null,
            "_view_module": "@jupyter-widgets/base",
            "overflow": null,
            "_model_module_version": "1.2.0",
            "_view_count": null,
            "flex_flow": null,
            "width": null,
            "min_width": null,
            "border": null,
            "align_items": null,
            "bottom": null,
            "_model_module": "@jupyter-widgets/base",
            "top": null,
            "grid_column": null,
            "overflow_y": null,
            "overflow_x": null,
            "grid_auto_flow": null,
            "grid_area": null,
            "grid_template_columns": null,
            "flex": null,
            "_model_name": "LayoutModel",
            "justify_items": null,
            "grid_row": null,
            "max_height": null,
            "align_content": null,
            "visibility": null,
            "align_self": null,
            "height": null,
            "min_height": null,
            "padding": null,
            "grid_auto_rows": null,
            "grid_gap": null,
            "max_width": null,
            "order": null,
            "_view_module_version": "1.2.0",
            "grid_template_areas": null,
            "object_position": null,
            "object_fit": null,
            "grid_auto_columns": null,
            "margin": null,
            "display": null,
            "left": null
          }
        },
        "fc2e8844f46c40a8a48c238bc821123e": {
          "model_module": "@jupyter-widgets/controls",
          "model_name": "DescriptionStyleModel",
          "state": {
            "_view_name": "StyleView",
            "_model_name": "DescriptionStyleModel",
            "description_width": "",
            "_view_module": "@jupyter-widgets/base",
            "_model_module_version": "1.5.0",
            "_view_count": null,
            "_view_module_version": "1.2.0",
            "_model_module": "@jupyter-widgets/controls"
          }
        },
        "db07174a2236447e9b082756afad6d4f": {
          "model_module": "@jupyter-widgets/base",
          "model_name": "LayoutModel",
          "state": {
            "_view_name": "LayoutView",
            "grid_template_rows": null,
            "right": null,
            "justify_content": null,
            "_view_module": "@jupyter-widgets/base",
            "overflow": null,
            "_model_module_version": "1.2.0",
            "_view_count": null,
            "flex_flow": null,
            "width": null,
            "min_width": null,
            "border": null,
            "align_items": null,
            "bottom": null,
            "_model_module": "@jupyter-widgets/base",
            "top": null,
            "grid_column": null,
            "overflow_y": null,
            "overflow_x": null,
            "grid_auto_flow": null,
            "grid_area": null,
            "grid_template_columns": null,
            "flex": null,
            "_model_name": "LayoutModel",
            "justify_items": null,
            "grid_row": null,
            "max_height": null,
            "align_content": null,
            "visibility": null,
            "align_self": null,
            "height": null,
            "min_height": null,
            "padding": null,
            "grid_auto_rows": null,
            "grid_gap": null,
            "max_width": null,
            "order": null,
            "_view_module_version": "1.2.0",
            "grid_template_areas": null,
            "object_position": null,
            "object_fit": null,
            "grid_auto_columns": null,
            "margin": null,
            "display": null,
            "left": null
          }
        }
      }
    }
  },
  "cells": [
    {
      "cell_type": "markdown",
      "metadata": {
        "id": "jRWNKJW4KeoU"
      },
      "source": [
        "# This colab notebook contains a demo of how FacetsLabeling can be used to label and create a small ML dataset that can be used to train a simple model.  \n",
        "\n",
        "* Currently there are no open source data labeling tools that can work from a notebook.  \n",
        "* This labeling tool will help you visualize and improve the quality of your ML datasets\n",
        "* Directly visualize and find how your model is performing. \n",
        "* Correct mistakes in your labeled dataset and fix mislabeled examples. \n",
        "* Labeling helps you to make a balanced dataset. \n"
      ]
    },
    {
      "cell_type": "markdown",
      "metadata": {
        "id": "CpMT_QoqKy1k"
      },
      "source": [
        "### Step 1: Downlaod and import FacetsLabeling library"
      ]
    },
    {
      "cell_type": "code",
      "metadata": {
        "id": "uCmXy-YhsXCU",
        "outputId": "9b359855-4965-401d-be88-8d884cde1ade",
        "colab": {
          "base_uri": "https://localhost:8080/"
        }
      },
      "source": [
        "!git clone https://github.com/jsiddique/facets_labeling.git"
      ],
      "execution_count": 39,
      "outputs": [
        {
          "output_type": "stream",
          "text": [
            "fatal: destination path 'facets_labeling' already exists and is not an empty directory.\n"
          ],
          "name": "stdout"
        }
      ]
    },
    {
      "cell_type": "code",
      "metadata": {
        "id": "5wGHubfis93k",
        "outputId": "cdd1d9a6-0341-4439-e83e-c10d07feb62c",
        "colab": {
          "base_uri": "https://localhost:8080/"
        }
      },
      "source": [
        "!git clone https://github.com/Geotab/facets-demo.git"
      ],
      "execution_count": 40,
      "outputs": [
        {
          "output_type": "stream",
          "text": [
            "fatal: destination path 'facets-demo' already exists and is not an empty directory.\n"
          ],
          "name": "stdout"
        }
      ]
    },
    {
      "cell_type": "code",
      "metadata": {
        "id": "qDwS-yW8W5oh"
      },
      "source": [
        "!pip install -q tfds-nightly tensorflow matplotlib"
      ],
      "execution_count": 41,
      "outputs": []
    },
    {
      "cell_type": "code",
      "metadata": {
        "id": "TnDNQrNptGdP"
      },
      "source": [
        "from os import sys\n",
        "sys.path.append('./facets_labeling/')"
      ],
      "execution_count": 42,
      "outputs": []
    },
    {
      "cell_type": "code",
      "metadata": {
        "id": "QCUUBYKCseTG"
      },
      "source": [
        "import numpy as np\n",
        "import pandas as pd\n",
        "from PIL import Image\n",
        "from facets_labeling import colab_dive\n",
        "from sklearn import metrics\n",
        "import matplotlib.pyplot as plt\n",
        "from matplotlib.ticker import FormatStrFormatter\n",
        "from sklearn.ensemble import RandomForestClassifier\n",
        "from sklearn.model_selection import train_test_split\n",
        "plt.ioff()"
      ],
      "execution_count": 38,
      "outputs": []
    },
    {
      "cell_type": "markdown",
      "metadata": {
        "id": "m0dkcf9DLPjE"
      },
      "source": [
        "### Step 2: Download dataset and load in dataframe."
      ]
    },
    {
      "cell_type": "code",
      "metadata": {
        "id": "4xYPozFSXDaB"
      },
      "source": [
        "import matplotlib.pyplot as plt\n",
        "import numpy as np\n",
        "import tensorflow as tf\n",
        "import tensorflow_datasets as tfds"
      ],
      "execution_count": 9,
      "outputs": []
    },
    {
      "cell_type": "code",
      "metadata": {
        "id": "-YxszG9WYaiG",
        "outputId": "434e67ab-6d1e-4612-c759-61cf42beb10f",
        "colab": {
          "base_uri": "https://localhost:8080/",
          "height": 202,
          "referenced_widgets": [
            "f947580cfcd14b69b4121bc399ce0320",
            "fdea9c6a048148daa9ab665d48b2e08f",
            "8d1b5b8af05f456ba98677cb3597a3b1",
            "8711090c653c49c18fc292f6fb5a6225",
            "324866ac41604e9d9e01cc78cc2288ea",
            "b69ee31bd8f14f42a96ad3e7961b976a",
            "fc2e8844f46c40a8a48c238bc821123e",
            "db07174a2236447e9b082756afad6d4f"
          ]
        }
      },
      "source": [
        "ds, info = tfds.load('mnist', split='train', with_info=True)\n",
        "df = tfds.as_dataframe(ds.take(10000), info)"
      ],
      "execution_count": 10,
      "outputs": [
        {
          "output_type": "stream",
          "text": [
            "\u001b[1mDownloading and preparing dataset mnist/3.0.1 (download: 11.06 MiB, generated: 21.00 MiB, total: 32.06 MiB) to /root/tensorflow_datasets/mnist/3.0.1...\u001b[0m\n"
          ],
          "name": "stdout"
        },
        {
          "output_type": "stream",
          "text": [
            "WARNING:absl:Dataset mnist is hosted on GCS. It will automatically be downloaded to your\n",
            "local data directory. If you'd instead prefer to read directly from our public\n",
            "GCS bucket (recommended if you're running on GCP), you can instead pass\n",
            "`try_gcs=True` to `tfds.load` or set `data_dir=gs://tfds-data/datasets`.\n",
            "\n"
          ],
          "name": "stderr"
        },
        {
          "output_type": "display_data",
          "data": {
            "application/vnd.jupyter.widget-view+json": {
              "model_id": "f947580cfcd14b69b4121bc399ce0320",
              "version_minor": 0,
              "version_major": 2
            },
            "text/plain": [
              "HBox(children=(FloatProgress(value=0.0, description='Dl Completed...', max=4.0, style=ProgressStyle(descriptio…"
            ]
          },
          "metadata": {
            "tags": []
          }
        },
        {
          "output_type": "stream",
          "text": [
            "\n",
            "\n",
            "\u001b[1mDataset mnist downloaded and prepared to /root/tensorflow_datasets/mnist/3.0.1. Subsequent calls will reuse this data.\u001b[0m\n"
          ],
          "name": "stdout"
        }
      ]
    },
    {
      "cell_type": "markdown",
      "metadata": {
        "id": "nEEqbFtcrma1"
      },
      "source": [
        "### Step 3: Only select one and zeros"
      ]
    },
    {
      "cell_type": "code",
      "metadata": {
        "id": "j1sqVu6vi9pY"
      },
      "source": [
        "num_examples = 400\n",
        "height = 20\n",
        "width = 20"
      ],
      "execution_count": 11,
      "outputs": []
    },
    {
      "cell_type": "code",
      "metadata": {
        "id": "ASnqmm4TbSJ9"
      },
      "source": [
        "df = df[(df.label == 1) | (df.label == 0)]\n",
        "df = df.reset_index()\n",
        "df = df[:num_examples]"
      ],
      "execution_count": 12,
      "outputs": []
    },
    {
      "cell_type": "code",
      "metadata": {
        "id": "cxxv1A4KZcpW"
      },
      "source": [
        "X_test = np.array([x.reshape(28, 28) for x in df.image.values])  "
      ],
      "execution_count": 13,
      "outputs": []
    },
    {
      "cell_type": "code",
      "metadata": {
        "id": "6m89IPidbjXh"
      },
      "source": [
        "#y_test = np.array(df.label.values)\n",
        "df = df.drop(columns='label')"
      ],
      "execution_count": 14,
      "outputs": []
    },
    {
      "cell_type": "markdown",
      "metadata": {
        "id": "r9g4ogJhLyfd"
      },
      "source": [
        "### Step 4: Stitch all the images in a sprite atlas\n",
        "To understand the concept of sprite atlas visit [this link](https://github.com/PAIR-code/facets/tree/master/facets_dive)."
      ]
    },
    {
      "cell_type": "code",
      "metadata": {
        "id": "Wm175VrKYe_c"
      },
      "source": [
        "import PIL.ImageOps \n",
        "def array_to_sprite_atlas(image_array, num_sprites_x, num_sprites_y):\n",
        "    \"Takes an array of images of shape (num_images, img_width, img_height) and splices them together to form a big ass mosaic (sprite atlas).\"\n",
        "    # Mnist arrays are in 0-1 range, PIL needs 0-255\n",
        "    image_array = image_array * 1\n",
        "    image_width, image_height = image_array.shape[1], image_array.shape[2]\n",
        "    atlas_width  = num_sprites_x * image_width\n",
        "    atlas_height = num_sprites_y * image_height\n",
        "    # We paste the samples to get indices arranged in the following way:\n",
        "    # | 0 | 1 | 2 | 3 |\n",
        "    # | 4 | 5 | 6 | 7 |\n",
        "    atlas  = Image.new(\"RGB\", (atlas_width, atlas_height), (0, 0, 0))\n",
        "    for i in range(num_sprites_y): \n",
        "        for j in range(num_sprites_x):\n",
        "            sample = image_array[num_sprites_x * i + j, :, :]\n",
        "            image = Image.fromarray(sample)\n",
        "            atlas.paste(image, (j*image_width, i*image_height))\n",
        "    return atlas\n",
        "atlas = array_to_sprite_atlas(X_test.reshape(X_test.shape[0], 28, 28), height, width)\n",
        "atlas = PIL.ImageOps.invert(atlas)\n",
        "atlas.save(\"atlas.jpg\")"
      ],
      "execution_count": 15,
      "outputs": []
    },
    {
      "cell_type": "code",
      "metadata": {
        "id": "ETkMYhBfwsIx"
      },
      "source": [
        "# id_df only contains ids\n",
        "id_df = pd.DataFrame()\n",
        "id_list = [str(x) for x in range(num_examples)]\n",
        "id_df['Id'] = id_list"
      ],
      "execution_count": 16,
      "outputs": []
    },
    {
      "cell_type": "markdown",
      "metadata": {
        "id": "oOrh7UxPOmPV"
      },
      "source": [
        "### Step 5: Create facets visulization"
      ]
    },
    {
      "cell_type": "code",
      "metadata": {
        "id": "DZ4KAM71u5nO"
      },
      "source": [
        "import base64\n",
        "labels = ['Zero', 'One']\n",
        "with open(\"atlas.jpg\", \"rb\") as image_file:\n",
        "    encoded_string = base64.b64encode(image_file.read())\n",
        "url_template = \"data:image/png;base64,{encoded_string}\"\n",
        "from facets_labeling import colab_dive \n",
        "fc = colab_dive.Facets()\n",
        "results = fc.create_classes(labels=labels)\n",
        "fc.define_atlas(id_df, sprite_width=28, sprite_height=28, atlas_url=url_template.format(encoded_string=encoded_string.decode(\"utf-8\")))\n",
        "fc.render_html('mnist.html')"
      ],
      "execution_count": 72,
      "outputs": []
    },
    {
      "cell_type": "code",
      "metadata": {
        "id": "h1WxWF-5u8qX",
        "outputId": "69e1425a-5f28-4b9c-ab3e-afbe68ae14d6",
        "colab": {
          "base_uri": "https://localhost:8080/",
          "height": 926
        }
      },
      "source": [
        "f = open('mnist.html', 'r')\n",
        "t = f.read()\n",
        "f.close()\n",
        "from IPython.display  import HTML\n",
        "display(HTML(t))"
      ],
      "execution_count": 73,
      "outputs": [
        {
          "output_type": "display_data",
          "data": {
            "text/html": [
              "\n",
              "<meta http-equiv=\"Content-Type\" content=\"text/html; charset=utf-16\">\n",
              "<html>\n",
              "    <head>\n",
              "\n",
              "\n",
              "\n",
              "           <script src=\"https://cdnjs.cloudflare.com/ajax/libs/webcomponentsjs/1.3.3/webcomponents-lite.js\"></script>\n",
              "              <!--link rel=\"import\" href=\"https://raw.githubusercontent.com/drzl386/test/master/jupyter-facet.html\"></link-->\n",
              "             <link rel=\"import\" href=\"https://raw.githubusercontent.com/PAIR-code/facets/1.0.0/facets-dist/facets-jupyter.html\">\n",
              "\n",
              "    <!--<link rel=\"import\" href=\"https://raw.githubusercontent.com/PAIR-code/facets/1.0.0/facets-dist/facets-jupyter.html\"></link>-->\n",
              "\n",
              "        <style>\n",
              "            .button {\n",
              "                background-color: #d73027;\n",
              "                color: #FFFFFF;\n",
              "                padding: 10px;\n",
              "                font-size: 24px;\n",
              "                border: none;\n",
              "                cursor: pointer;\n",
              "                border-radius: 8px;\n",
              "                display: inline-block;\n",
              "                width: 153px;\n",
              "                transition: all 0.5s;\n",
              "                outline: none;\n",
              "            }\n",
              "            .button span {\n",
              "                cursor: pointer;\n",
              "                display: inline-block;\n",
              "                position: relative;\n",
              "                transition: 0.5s;\n",
              "                outline: none;\n",
              "            }\n",
              "            .counter-button {\n",
              "                padding: 10px;\n",
              "                font-size: 16px;\n",
              "                border: none;\n",
              "                cursor: pointer;\n",
              "                border-radius: 6px;\n",
              "                display: inline-block;\n",
              "                outline: none;\n",
              "                background-color: #d9d9d9;\n",
              "            }\n",
              "            .counter-button-total {\n",
              "                background-color: #addd8e;\n",
              "                padding: 10px;\n",
              "                font-size: 16px;\n",
              "                border: none;\n",
              "                cursor: pointer;\n",
              "                border-radius: 6px;\n",
              "                display: inline-block;\n",
              "                outline: none;\n",
              "            }\n",
              "\n",
              "            .button span:after {\n",
              "                content: \">>\";\n",
              "                position: absolute;\n",
              "                opacity: 0;\n",
              "                top: 0;\n",
              "                right: -20px;\n",
              "                transition: 0.5s;\n",
              "                outline: none;\n",
              "            }\n",
              "\n",
              "            .button:hover span {\n",
              "                padding-right: 35px;\n",
              "                outline: none;\n",
              "            }\n",
              "            .button:hover span:after {\n",
              "                opacity: 1;\n",
              "                right: 0;\n",
              "                outline: none;\n",
              "            }\n",
              "            .dropbtn-dive {\n",
              "                background-color: #1a9850;\n",
              "                color: #FFFFFF;\n",
              "                padding: 10px;\n",
              "                font-size: 24px;\n",
              "                border: none;\n",
              "                cursor: pointer;\n",
              "                border-radius: 8px;\n",
              "                outline: none;\n",
              "            }\n",
              "            .dropdown-dive {\n",
              "                position: relative;\n",
              "                display: inline-block;\n",
              "                outline: none;\n",
              "            }\n",
              "            .dropdown-content-dive {\n",
              "                display: none;\n",
              "                position: absolute;\n",
              "                background-color: #f9f9f9;\n",
              "                width: 100%;\n",
              "                box-shadow: 0px 8px 16px 0px rgba(0,0,0,0.2);\n",
              "                z-index: 1;\n",
              "                outline: none;\n",
              "            }\n",
              "            .dropdown-content-dive a {\n",
              "                color: black;\n",
              "                padding: 12px 16px;\n",
              "                text-decoration: none;\n",
              "                display: block;\n",
              "                outline: none;\n",
              "            }\n",
              "            .dropdown-content-dive a:hover {background-color: #f1f1f1}\n",
              "            .dropdown-dive:hover .dropdown-content-dive {\n",
              "                display: block;\n",
              "                outline: none;\n",
              "            }\n",
              "            .dropdown-dive:hover .dropbtn-dive {\n",
              "                background-color: #006837;\n",
              "                outline: none;\n",
              "            }\n",
              "        </style>\n",
              "    </head>\n",
              "    <body>\n",
              "\n",
              "\n",
              "        <table style=\"width: 100%\">\n",
              "            <tr>\n",
              "                <td align=\"center\">\n",
              "\n",
              "                    <button class=\"button\" id=\"reset-button\"><span>Reset </span></button>\n",
              "                        <div class=\"dropdown-dive\">\n",
              "                            <button class=\"dropbtn-dive\" id=\"classselectbutton\">Select Class</button>\n",
              "                            <div class=\"dropdown-content-dive\">\n",
              "                                                              <a  class=\"class-selector\">Zero</a>\n",
              "                                <a  class=\"class-selector\">One</a>\n",
              "\n",
              "                            </div>\n",
              "                        </div>\n",
              "                    </td>\n",
              "            </tr>\n",
              "            <tr>\n",
              "                <td align=\"center\">\n",
              "                                      <button style=\"margin-top: 6\" class=\"counter-button\" id=\"counter-Zero\"><b>Zero:</b> 0</button>\n",
              "                    <button style=\"margin-top: 6\" class=\"counter-button\" id=\"counter-One\"><b>One:</b> 0</button>\n",
              "                    <button class=\"counter-button-total\" id=\"counter-total\"><b>Total:</b> 0</button>\n",
              "                </td>\n",
              "            </tr>\n",
              "            <tr>\n",
              "                <td align=\"center\">\n",
              "                    <div style=\"width: 100%; background-color: #525252; height: 3px; margin-top:6px\"></div>\n",
              "                </td>\n",
              "            </tr>\n",
              "        </table>\n",
              "\n",
              "        <facets-dive id=\"elem\" cross-origin=\"anonymous\" height=\"800\" sprite-image-width=\"28\" sprite-image-height=\"28\" ></facets-dive>\n",
              "    </body>\n",
              "    <script>\n",
              "        function refreshPage(){\n",
              "               window.location.reload();}\n",
              "</script>\n",
              "    <script>\n",
              "        /*eslint-disable no-redeclare */\n",
              "        var selectedClass = null;\n",
              "        var data = JSON.parse('[{\\\"Id\\\":\\\"0\\\",\\\"Labels\\\":\\\"None\\\",\\\"Predictions\\\":\\\"One\\\",\\\"SessionLabel\\\":null},{\\\"Id\\\":\\\"1\\\",\\\"Labels\\\":\\\"None\\\",\\\"Predictions\\\":\\\"Zero\\\",\\\"SessionLabel\\\":null},{\\\"Id\\\":\\\"2\\\",\\\"Labels\\\":\\\"None\\\",\\\"Predictions\\\":\\\"One\\\",\\\"SessionLabel\\\":null},{\\\"Id\\\":\\\"3\\\",\\\"Labels\\\":\\\"None\\\",\\\"Predictions\\\":\\\"One\\\",\\\"SessionLabel\\\":null},{\\\"Id\\\":\\\"4\\\",\\\"Labels\\\":\\\"None\\\",\\\"Predictions\\\":\\\"One\\\",\\\"SessionLabel\\\":null},{\\\"Id\\\":\\\"5\\\",\\\"Labels\\\":\\\"None\\\",\\\"Predictions\\\":\\\"Zero\\\",\\\"SessionLabel\\\":null},{\\\"Id\\\":\\\"6\\\",\\\"Labels\\\":\\\"None\\\",\\\"Predictions\\\":\\\"Zero\\\",\\\"SessionLabel\\\":null},{\\\"Id\\\":\\\"7\\\",\\\"Labels\\\":\\\"None\\\",\\\"Predictions\\\":\\\"Zero\\\",\\\"SessionLabel\\\":null},{\\\"Id\\\":\\\"8\\\",\\\"Labels\\\":\\\"None\\\",\\\"Predictions\\\":\\\"Zero\\\",\\\"SessionLabel\\\":null},{\\\"Id\\\":\\\"9\\\",\\\"Labels\\\":\\\"None\\\",\\\"Predictions\\\":\\\"One\\\",\\\"SessionLabel\\\":null},{\\\"Id\\\":\\\"10\\\",\\\"Labels\\\":\\\"None\\\",\\\"Predictions\\\":\\\"One\\\",\\\"SessionLabel\\\":null},{\\\"Id\\\":\\\"11\\\",\\\"Labels\\\":\\\"None\\\",\\\"Predictions\\\":\\\"One\\\",\\\"SessionLabel\\\":null},{\\\"Id\\\":\\\"12\\\",\\\"Labels\\\":\\\"None\\\",\\\"Predictions\\\":\\\"One\\\",\\\"SessionLabel\\\":null},{\\\"Id\\\":\\\"13\\\",\\\"Labels\\\":\\\"None\\\",\\\"Predictions\\\":\\\"One\\\",\\\"SessionLabel\\\":null},{\\\"Id\\\":\\\"14\\\",\\\"Labels\\\":\\\"None\\\",\\\"Predictions\\\":\\\"One\\\",\\\"SessionLabel\\\":null},{\\\"Id\\\":\\\"15\\\",\\\"Labels\\\":\\\"None\\\",\\\"Predictions\\\":\\\"One\\\",\\\"SessionLabel\\\":null},{\\\"Id\\\":\\\"16\\\",\\\"Labels\\\":\\\"None\\\",\\\"Predictions\\\":\\\"One\\\",\\\"SessionLabel\\\":null},{\\\"Id\\\":\\\"17\\\",\\\"Labels\\\":\\\"None\\\",\\\"Predictions\\\":\\\"One\\\",\\\"SessionLabel\\\":null},{\\\"Id\\\":\\\"18\\\",\\\"Labels\\\":\\\"None\\\",\\\"Predictions\\\":\\\"One\\\",\\\"SessionLabel\\\":null},{\\\"Id\\\":\\\"19\\\",\\\"Labels\\\":\\\"None\\\",\\\"Predictions\\\":\\\"One\\\",\\\"SessionLabel\\\":null},{\\\"Id\\\":\\\"20\\\",\\\"Labels\\\":\\\"None\\\",\\\"Predictions\\\":\\\"Zero\\\",\\\"SessionLabel\\\":null},{\\\"Id\\\":\\\"21\\\",\\\"Labels\\\":\\\"None\\\",\\\"Predictions\\\":\\\"One\\\",\\\"SessionLabel\\\":null},{\\\"Id\\\":\\\"22\\\",\\\"Labels\\\":\\\"None\\\",\\\"Predictions\\\":\\\"Zero\\\",\\\"SessionLabel\\\":null},{\\\"Id\\\":\\\"23\\\",\\\"Labels\\\":\\\"None\\\",\\\"Predictions\\\":\\\"One\\\",\\\"SessionLabel\\\":null},{\\\"Id\\\":\\\"24\\\",\\\"Labels\\\":\\\"None\\\",\\\"Predictions\\\":\\\"Zero\\\",\\\"SessionLabel\\\":null},{\\\"Id\\\":\\\"25\\\",\\\"Labels\\\":\\\"None\\\",\\\"Predictions\\\":\\\"One\\\",\\\"SessionLabel\\\":null},{\\\"Id\\\":\\\"26\\\",\\\"Labels\\\":\\\"None\\\",\\\"Predictions\\\":\\\"One\\\",\\\"SessionLabel\\\":null},{\\\"Id\\\":\\\"27\\\",\\\"Labels\\\":\\\"None\\\",\\\"Predictions\\\":\\\"Zero\\\",\\\"SessionLabel\\\":null},{\\\"Id\\\":\\\"28\\\",\\\"Labels\\\":\\\"None\\\",\\\"Predictions\\\":\\\"Zero\\\",\\\"SessionLabel\\\":null},{\\\"Id\\\":\\\"29\\\",\\\"Labels\\\":\\\"None\\\",\\\"Predictions\\\":\\\"One\\\",\\\"SessionLabel\\\":null},{\\\"Id\\\":\\\"30\\\",\\\"Labels\\\":\\\"None\\\",\\\"Predictions\\\":\\\"Zero\\\",\\\"SessionLabel\\\":null},{\\\"Id\\\":\\\"31\\\",\\\"Labels\\\":\\\"None\\\",\\\"Predictions\\\":\\\"One\\\",\\\"SessionLabel\\\":null},{\\\"Id\\\":\\\"32\\\",\\\"Labels\\\":\\\"None\\\",\\\"Predictions\\\":\\\"One\\\",\\\"SessionLabel\\\":null},{\\\"Id\\\":\\\"33\\\",\\\"Labels\\\":\\\"None\\\",\\\"Predictions\\\":\\\"One\\\",\\\"SessionLabel\\\":null},{\\\"Id\\\":\\\"34\\\",\\\"Labels\\\":\\\"None\\\",\\\"Predictions\\\":\\\"One\\\",\\\"SessionLabel\\\":null},{\\\"Id\\\":\\\"35\\\",\\\"Labels\\\":\\\"None\\\",\\\"Predictions\\\":\\\"Zero\\\",\\\"SessionLabel\\\":null},{\\\"Id\\\":\\\"36\\\",\\\"Labels\\\":\\\"None\\\",\\\"Predictions\\\":\\\"One\\\",\\\"SessionLabel\\\":null},{\\\"Id\\\":\\\"37\\\",\\\"Labels\\\":\\\"None\\\",\\\"Predictions\\\":\\\"One\\\",\\\"SessionLabel\\\":null},{\\\"Id\\\":\\\"38\\\",\\\"Labels\\\":\\\"None\\\",\\\"Predictions\\\":\\\"Zero\\\",\\\"SessionLabel\\\":null},{\\\"Id\\\":\\\"39\\\",\\\"Labels\\\":\\\"None\\\",\\\"Predictions\\\":\\\"One\\\",\\\"SessionLabel\\\":null},{\\\"Id\\\":\\\"40\\\",\\\"Labels\\\":\\\"None\\\",\\\"Predictions\\\":\\\"Zero\\\",\\\"SessionLabel\\\":null},{\\\"Id\\\":\\\"41\\\",\\\"Labels\\\":\\\"None\\\",\\\"Predictions\\\":\\\"Zero\\\",\\\"SessionLabel\\\":null},{\\\"Id\\\":\\\"42\\\",\\\"Labels\\\":\\\"None\\\",\\\"Predictions\\\":\\\"Zero\\\",\\\"SessionLabel\\\":null},{\\\"Id\\\":\\\"43\\\",\\\"Labels\\\":\\\"None\\\",\\\"Predictions\\\":\\\"One\\\",\\\"SessionLabel\\\":null},{\\\"Id\\\":\\\"44\\\",\\\"Labels\\\":\\\"None\\\",\\\"Predictions\\\":\\\"One\\\",\\\"SessionLabel\\\":null},{\\\"Id\\\":\\\"45\\\",\\\"Labels\\\":\\\"None\\\",\\\"Predictions\\\":\\\"One\\\",\\\"SessionLabel\\\":null},{\\\"Id\\\":\\\"46\\\",\\\"Labels\\\":\\\"None\\\",\\\"Predictions\\\":\\\"One\\\",\\\"SessionLabel\\\":null},{\\\"Id\\\":\\\"47\\\",\\\"Labels\\\":\\\"None\\\",\\\"Predictions\\\":\\\"Zero\\\",\\\"SessionLabel\\\":null},{\\\"Id\\\":\\\"48\\\",\\\"Labels\\\":\\\"None\\\",\\\"Predictions\\\":\\\"One\\\",\\\"SessionLabel\\\":null},{\\\"Id\\\":\\\"49\\\",\\\"Labels\\\":\\\"None\\\",\\\"Predictions\\\":\\\"Zero\\\",\\\"SessionLabel\\\":null},{\\\"Id\\\":\\\"50\\\",\\\"Labels\\\":\\\"None\\\",\\\"Predictions\\\":\\\"Zero\\\",\\\"SessionLabel\\\":null},{\\\"Id\\\":\\\"51\\\",\\\"Labels\\\":\\\"None\\\",\\\"Predictions\\\":\\\"Zero\\\",\\\"SessionLabel\\\":null},{\\\"Id\\\":\\\"52\\\",\\\"Labels\\\":\\\"None\\\",\\\"Predictions\\\":\\\"One\\\",\\\"SessionLabel\\\":null},{\\\"Id\\\":\\\"53\\\",\\\"Labels\\\":\\\"One\\\",\\\"Predictions\\\":\\\"One\\\",\\\"SessionLabel\\\":null},{\\\"Id\\\":\\\"54\\\",\\\"Labels\\\":\\\"None\\\",\\\"Predictions\\\":\\\"One\\\",\\\"SessionLabel\\\":null},{\\\"Id\\\":\\\"55\\\",\\\"Labels\\\":\\\"None\\\",\\\"Predictions\\\":\\\"One\\\",\\\"SessionLabel\\\":null},{\\\"Id\\\":\\\"56\\\",\\\"Labels\\\":\\\"None\\\",\\\"Predictions\\\":\\\"One\\\",\\\"SessionLabel\\\":null},{\\\"Id\\\":\\\"57\\\",\\\"Labels\\\":\\\"None\\\",\\\"Predictions\\\":\\\"Zero\\\",\\\"SessionLabel\\\":null},{\\\"Id\\\":\\\"58\\\",\\\"Labels\\\":\\\"None\\\",\\\"Predictions\\\":\\\"Zero\\\",\\\"SessionLabel\\\":null},{\\\"Id\\\":\\\"59\\\",\\\"Labels\\\":\\\"None\\\",\\\"Predictions\\\":\\\"Zero\\\",\\\"SessionLabel\\\":null},{\\\"Id\\\":\\\"60\\\",\\\"Labels\\\":\\\"None\\\",\\\"Predictions\\\":\\\"One\\\",\\\"SessionLabel\\\":null},{\\\"Id\\\":\\\"61\\\",\\\"Labels\\\":\\\"None\\\",\\\"Predictions\\\":\\\"One\\\",\\\"SessionLabel\\\":null},{\\\"Id\\\":\\\"62\\\",\\\"Labels\\\":\\\"None\\\",\\\"Predictions\\\":\\\"One\\\",\\\"SessionLabel\\\":null},{\\\"Id\\\":\\\"63\\\",\\\"Labels\\\":\\\"None\\\",\\\"Predictions\\\":\\\"One\\\",\\\"SessionLabel\\\":null},{\\\"Id\\\":\\\"64\\\",\\\"Labels\\\":\\\"None\\\",\\\"Predictions\\\":\\\"One\\\",\\\"SessionLabel\\\":null},{\\\"Id\\\":\\\"65\\\",\\\"Labels\\\":\\\"None\\\",\\\"Predictions\\\":\\\"One\\\",\\\"SessionLabel\\\":null},{\\\"Id\\\":\\\"66\\\",\\\"Labels\\\":\\\"None\\\",\\\"Predictions\\\":\\\"One\\\",\\\"SessionLabel\\\":null},{\\\"Id\\\":\\\"67\\\",\\\"Labels\\\":\\\"None\\\",\\\"Predictions\\\":\\\"Zero\\\",\\\"SessionLabel\\\":null},{\\\"Id\\\":\\\"68\\\",\\\"Labels\\\":\\\"None\\\",\\\"Predictions\\\":\\\"One\\\",\\\"SessionLabel\\\":null},{\\\"Id\\\":\\\"69\\\",\\\"Labels\\\":\\\"None\\\",\\\"Predictions\\\":\\\"One\\\",\\\"SessionLabel\\\":null},{\\\"Id\\\":\\\"70\\\",\\\"Labels\\\":\\\"None\\\",\\\"Predictions\\\":\\\"One\\\",\\\"SessionLabel\\\":null},{\\\"Id\\\":\\\"71\\\",\\\"Labels\\\":\\\"None\\\",\\\"Predictions\\\":\\\"One\\\",\\\"SessionLabel\\\":null},{\\\"Id\\\":\\\"72\\\",\\\"Labels\\\":\\\"None\\\",\\\"Predictions\\\":\\\"One\\\",\\\"SessionLabel\\\":null},{\\\"Id\\\":\\\"73\\\",\\\"Labels\\\":\\\"None\\\",\\\"Predictions\\\":\\\"One\\\",\\\"SessionLabel\\\":null},{\\\"Id\\\":\\\"74\\\",\\\"Labels\\\":\\\"None\\\",\\\"Predictions\\\":\\\"One\\\",\\\"SessionLabel\\\":null},{\\\"Id\\\":\\\"75\\\",\\\"Labels\\\":\\\"None\\\",\\\"Predictions\\\":\\\"Zero\\\",\\\"SessionLabel\\\":null},{\\\"Id\\\":\\\"76\\\",\\\"Labels\\\":\\\"None\\\",\\\"Predictions\\\":\\\"Zero\\\",\\\"SessionLabel\\\":null},{\\\"Id\\\":\\\"77\\\",\\\"Labels\\\":\\\"None\\\",\\\"Predictions\\\":\\\"One\\\",\\\"SessionLabel\\\":null},{\\\"Id\\\":\\\"78\\\",\\\"Labels\\\":\\\"None\\\",\\\"Predictions\\\":\\\"Zero\\\",\\\"SessionLabel\\\":null},{\\\"Id\\\":\\\"79\\\",\\\"Labels\\\":\\\"None\\\",\\\"Predictions\\\":\\\"One\\\",\\\"SessionLabel\\\":null},{\\\"Id\\\":\\\"80\\\",\\\"Labels\\\":\\\"None\\\",\\\"Predictions\\\":\\\"Zero\\\",\\\"SessionLabel\\\":null},{\\\"Id\\\":\\\"81\\\",\\\"Labels\\\":\\\"One\\\",\\\"Predictions\\\":\\\"One\\\",\\\"SessionLabel\\\":null},{\\\"Id\\\":\\\"82\\\",\\\"Labels\\\":\\\"None\\\",\\\"Predictions\\\":\\\"Zero\\\",\\\"SessionLabel\\\":null},{\\\"Id\\\":\\\"83\\\",\\\"Labels\\\":\\\"None\\\",\\\"Predictions\\\":\\\"One\\\",\\\"SessionLabel\\\":null},{\\\"Id\\\":\\\"84\\\",\\\"Labels\\\":\\\"None\\\",\\\"Predictions\\\":\\\"One\\\",\\\"SessionLabel\\\":null},{\\\"Id\\\":\\\"85\\\",\\\"Labels\\\":\\\"None\\\",\\\"Predictions\\\":\\\"Zero\\\",\\\"SessionLabel\\\":null},{\\\"Id\\\":\\\"86\\\",\\\"Labels\\\":\\\"None\\\",\\\"Predictions\\\":\\\"One\\\",\\\"SessionLabel\\\":null},{\\\"Id\\\":\\\"87\\\",\\\"Labels\\\":\\\"None\\\",\\\"Predictions\\\":\\\"Zero\\\",\\\"SessionLabel\\\":null},{\\\"Id\\\":\\\"88\\\",\\\"Labels\\\":\\\"None\\\",\\\"Predictions\\\":\\\"Zero\\\",\\\"SessionLabel\\\":null},{\\\"Id\\\":\\\"89\\\",\\\"Labels\\\":\\\"None\\\",\\\"Predictions\\\":\\\"Zero\\\",\\\"SessionLabel\\\":null},{\\\"Id\\\":\\\"90\\\",\\\"Labels\\\":\\\"None\\\",\\\"Predictions\\\":\\\"One\\\",\\\"SessionLabel\\\":null},{\\\"Id\\\":\\\"91\\\",\\\"Labels\\\":\\\"None\\\",\\\"Predictions\\\":\\\"Zero\\\",\\\"SessionLabel\\\":null},{\\\"Id\\\":\\\"92\\\",\\\"Labels\\\":\\\"None\\\",\\\"Predictions\\\":\\\"One\\\",\\\"SessionLabel\\\":null},{\\\"Id\\\":\\\"93\\\",\\\"Labels\\\":\\\"None\\\",\\\"Predictions\\\":\\\"Zero\\\",\\\"SessionLabel\\\":null},{\\\"Id\\\":\\\"94\\\",\\\"Labels\\\":\\\"None\\\",\\\"Predictions\\\":\\\"Zero\\\",\\\"SessionLabel\\\":null},{\\\"Id\\\":\\\"95\\\",\\\"Labels\\\":\\\"None\\\",\\\"Predictions\\\":\\\"Zero\\\",\\\"SessionLabel\\\":null},{\\\"Id\\\":\\\"96\\\",\\\"Labels\\\":\\\"None\\\",\\\"Predictions\\\":\\\"Zero\\\",\\\"SessionLabel\\\":null},{\\\"Id\\\":\\\"97\\\",\\\"Labels\\\":\\\"None\\\",\\\"Predictions\\\":\\\"One\\\",\\\"SessionLabel\\\":null},{\\\"Id\\\":\\\"98\\\",\\\"Labels\\\":\\\"None\\\",\\\"Predictions\\\":\\\"One\\\",\\\"SessionLabel\\\":null},{\\\"Id\\\":\\\"99\\\",\\\"Labels\\\":\\\"None\\\",\\\"Predictions\\\":\\\"One\\\",\\\"SessionLabel\\\":null},{\\\"Id\\\":\\\"100\\\",\\\"Labels\\\":\\\"None\\\",\\\"Predictions\\\":\\\"One\\\",\\\"SessionLabel\\\":null},{\\\"Id\\\":\\\"101\\\",\\\"Labels\\\":\\\"None\\\",\\\"Predictions\\\":\\\"One\\\",\\\"SessionLabel\\\":null},{\\\"Id\\\":\\\"102\\\",\\\"Labels\\\":\\\"None\\\",\\\"Predictions\\\":\\\"Zero\\\",\\\"SessionLabel\\\":null},{\\\"Id\\\":\\\"103\\\",\\\"Labels\\\":\\\"None\\\",\\\"Predictions\\\":\\\"One\\\",\\\"SessionLabel\\\":null},{\\\"Id\\\":\\\"104\\\",\\\"Labels\\\":\\\"None\\\",\\\"Predictions\\\":\\\"Zero\\\",\\\"SessionLabel\\\":null},{\\\"Id\\\":\\\"105\\\",\\\"Labels\\\":\\\"None\\\",\\\"Predictions\\\":\\\"One\\\",\\\"SessionLabel\\\":null},{\\\"Id\\\":\\\"106\\\",\\\"Labels\\\":\\\"None\\\",\\\"Predictions\\\":\\\"One\\\",\\\"SessionLabel\\\":null},{\\\"Id\\\":\\\"107\\\",\\\"Labels\\\":\\\"None\\\",\\\"Predictions\\\":\\\"Zero\\\",\\\"SessionLabel\\\":null},{\\\"Id\\\":\\\"108\\\",\\\"Labels\\\":\\\"None\\\",\\\"Predictions\\\":\\\"Zero\\\",\\\"SessionLabel\\\":null},{\\\"Id\\\":\\\"109\\\",\\\"Labels\\\":\\\"None\\\",\\\"Predictions\\\":\\\"Zero\\\",\\\"SessionLabel\\\":null},{\\\"Id\\\":\\\"110\\\",\\\"Labels\\\":\\\"None\\\",\\\"Predictions\\\":\\\"One\\\",\\\"SessionLabel\\\":null},{\\\"Id\\\":\\\"111\\\",\\\"Labels\\\":\\\"None\\\",\\\"Predictions\\\":\\\"Zero\\\",\\\"SessionLabel\\\":null},{\\\"Id\\\":\\\"112\\\",\\\"Labels\\\":\\\"None\\\",\\\"Predictions\\\":\\\"Zero\\\",\\\"SessionLabel\\\":null},{\\\"Id\\\":\\\"113\\\",\\\"Labels\\\":\\\"None\\\",\\\"Predictions\\\":\\\"Zero\\\",\\\"SessionLabel\\\":null},{\\\"Id\\\":\\\"114\\\",\\\"Labels\\\":\\\"None\\\",\\\"Predictions\\\":\\\"One\\\",\\\"SessionLabel\\\":null},{\\\"Id\\\":\\\"115\\\",\\\"Labels\\\":\\\"None\\\",\\\"Predictions\\\":\\\"Zero\\\",\\\"SessionLabel\\\":null},{\\\"Id\\\":\\\"116\\\",\\\"Labels\\\":\\\"None\\\",\\\"Predictions\\\":\\\"One\\\",\\\"SessionLabel\\\":null},{\\\"Id\\\":\\\"117\\\",\\\"Labels\\\":\\\"None\\\",\\\"Predictions\\\":\\\"One\\\",\\\"SessionLabel\\\":null},{\\\"Id\\\":\\\"118\\\",\\\"Labels\\\":\\\"None\\\",\\\"Predictions\\\":\\\"Zero\\\",\\\"SessionLabel\\\":null},{\\\"Id\\\":\\\"119\\\",\\\"Labels\\\":\\\"None\\\",\\\"Predictions\\\":\\\"Zero\\\",\\\"SessionLabel\\\":null},{\\\"Id\\\":\\\"120\\\",\\\"Labels\\\":\\\"None\\\",\\\"Predictions\\\":\\\"Zero\\\",\\\"SessionLabel\\\":null},{\\\"Id\\\":\\\"121\\\",\\\"Labels\\\":\\\"None\\\",\\\"Predictions\\\":\\\"One\\\",\\\"SessionLabel\\\":null},{\\\"Id\\\":\\\"122\\\",\\\"Labels\\\":\\\"None\\\",\\\"Predictions\\\":\\\"One\\\",\\\"SessionLabel\\\":null},{\\\"Id\\\":\\\"123\\\",\\\"Labels\\\":\\\"None\\\",\\\"Predictions\\\":\\\"One\\\",\\\"SessionLabel\\\":null},{\\\"Id\\\":\\\"124\\\",\\\"Labels\\\":\\\"None\\\",\\\"Predictions\\\":\\\"One\\\",\\\"SessionLabel\\\":null},{\\\"Id\\\":\\\"125\\\",\\\"Labels\\\":\\\"None\\\",\\\"Predictions\\\":\\\"Zero\\\",\\\"SessionLabel\\\":null},{\\\"Id\\\":\\\"126\\\",\\\"Labels\\\":\\\"None\\\",\\\"Predictions\\\":\\\"One\\\",\\\"SessionLabel\\\":null},{\\\"Id\\\":\\\"127\\\",\\\"Labels\\\":\\\"None\\\",\\\"Predictions\\\":\\\"Zero\\\",\\\"SessionLabel\\\":null},{\\\"Id\\\":\\\"128\\\",\\\"Labels\\\":\\\"None\\\",\\\"Predictions\\\":\\\"One\\\",\\\"SessionLabel\\\":null},{\\\"Id\\\":\\\"129\\\",\\\"Labels\\\":\\\"None\\\",\\\"Predictions\\\":\\\"One\\\",\\\"SessionLabel\\\":null},{\\\"Id\\\":\\\"130\\\",\\\"Labels\\\":\\\"None\\\",\\\"Predictions\\\":\\\"Zero\\\",\\\"SessionLabel\\\":null},{\\\"Id\\\":\\\"131\\\",\\\"Labels\\\":\\\"One\\\",\\\"Predictions\\\":\\\"One\\\",\\\"SessionLabel\\\":null},{\\\"Id\\\":\\\"132\\\",\\\"Labels\\\":\\\"None\\\",\\\"Predictions\\\":\\\"One\\\",\\\"SessionLabel\\\":null},{\\\"Id\\\":\\\"133\\\",\\\"Labels\\\":\\\"None\\\",\\\"Predictions\\\":\\\"Zero\\\",\\\"SessionLabel\\\":null},{\\\"Id\\\":\\\"134\\\",\\\"Labels\\\":\\\"None\\\",\\\"Predictions\\\":\\\"Zero\\\",\\\"SessionLabel\\\":null},{\\\"Id\\\":\\\"135\\\",\\\"Labels\\\":\\\"None\\\",\\\"Predictions\\\":\\\"Zero\\\",\\\"SessionLabel\\\":null},{\\\"Id\\\":\\\"136\\\",\\\"Labels\\\":\\\"None\\\",\\\"Predictions\\\":\\\"Zero\\\",\\\"SessionLabel\\\":null},{\\\"Id\\\":\\\"137\\\",\\\"Labels\\\":\\\"None\\\",\\\"Predictions\\\":\\\"Zero\\\",\\\"SessionLabel\\\":null},{\\\"Id\\\":\\\"138\\\",\\\"Labels\\\":\\\"None\\\",\\\"Predictions\\\":\\\"One\\\",\\\"SessionLabel\\\":null},{\\\"Id\\\":\\\"139\\\",\\\"Labels\\\":\\\"None\\\",\\\"Predictions\\\":\\\"Zero\\\",\\\"SessionLabel\\\":null},{\\\"Id\\\":\\\"140\\\",\\\"Labels\\\":\\\"None\\\",\\\"Predictions\\\":\\\"Zero\\\",\\\"SessionLabel\\\":null},{\\\"Id\\\":\\\"141\\\",\\\"Labels\\\":\\\"None\\\",\\\"Predictions\\\":\\\"One\\\",\\\"SessionLabel\\\":null},{\\\"Id\\\":\\\"142\\\",\\\"Labels\\\":\\\"None\\\",\\\"Predictions\\\":\\\"Zero\\\",\\\"SessionLabel\\\":null},{\\\"Id\\\":\\\"143\\\",\\\"Labels\\\":\\\"None\\\",\\\"Predictions\\\":\\\"One\\\",\\\"SessionLabel\\\":null},{\\\"Id\\\":\\\"144\\\",\\\"Labels\\\":\\\"None\\\",\\\"Predictions\\\":\\\"Zero\\\",\\\"SessionLabel\\\":null},{\\\"Id\\\":\\\"145\\\",\\\"Labels\\\":\\\"None\\\",\\\"Predictions\\\":\\\"Zero\\\",\\\"SessionLabel\\\":null},{\\\"Id\\\":\\\"146\\\",\\\"Labels\\\":\\\"None\\\",\\\"Predictions\\\":\\\"One\\\",\\\"SessionLabel\\\":null},{\\\"Id\\\":\\\"147\\\",\\\"Labels\\\":\\\"None\\\",\\\"Predictions\\\":\\\"One\\\",\\\"SessionLabel\\\":null},{\\\"Id\\\":\\\"148\\\",\\\"Labels\\\":\\\"None\\\",\\\"Predictions\\\":\\\"Zero\\\",\\\"SessionLabel\\\":null},{\\\"Id\\\":\\\"149\\\",\\\"Labels\\\":\\\"None\\\",\\\"Predictions\\\":\\\"One\\\",\\\"SessionLabel\\\":null},{\\\"Id\\\":\\\"150\\\",\\\"Labels\\\":\\\"None\\\",\\\"Predictions\\\":\\\"One\\\",\\\"SessionLabel\\\":null},{\\\"Id\\\":\\\"151\\\",\\\"Labels\\\":\\\"None\\\",\\\"Predictions\\\":\\\"One\\\",\\\"SessionLabel\\\":null},{\\\"Id\\\":\\\"152\\\",\\\"Labels\\\":\\\"None\\\",\\\"Predictions\\\":\\\"Zero\\\",\\\"SessionLabel\\\":null},{\\\"Id\\\":\\\"153\\\",\\\"Labels\\\":\\\"None\\\",\\\"Predictions\\\":\\\"One\\\",\\\"SessionLabel\\\":null},{\\\"Id\\\":\\\"154\\\",\\\"Labels\\\":\\\"None\\\",\\\"Predictions\\\":\\\"Zero\\\",\\\"SessionLabel\\\":null},{\\\"Id\\\":\\\"155\\\",\\\"Labels\\\":\\\"None\\\",\\\"Predictions\\\":\\\"Zero\\\",\\\"SessionLabel\\\":null},{\\\"Id\\\":\\\"156\\\",\\\"Labels\\\":\\\"None\\\",\\\"Predictions\\\":\\\"One\\\",\\\"SessionLabel\\\":null},{\\\"Id\\\":\\\"157\\\",\\\"Labels\\\":\\\"None\\\",\\\"Predictions\\\":\\\"Zero\\\",\\\"SessionLabel\\\":null},{\\\"Id\\\":\\\"158\\\",\\\"Labels\\\":\\\"None\\\",\\\"Predictions\\\":\\\"Zero\\\",\\\"SessionLabel\\\":null},{\\\"Id\\\":\\\"159\\\",\\\"Labels\\\":\\\"None\\\",\\\"Predictions\\\":\\\"Zero\\\",\\\"SessionLabel\\\":null},{\\\"Id\\\":\\\"160\\\",\\\"Labels\\\":\\\"None\\\",\\\"Predictions\\\":\\\"One\\\",\\\"SessionLabel\\\":null},{\\\"Id\\\":\\\"161\\\",\\\"Labels\\\":\\\"None\\\",\\\"Predictions\\\":\\\"Zero\\\",\\\"SessionLabel\\\":null},{\\\"Id\\\":\\\"162\\\",\\\"Labels\\\":\\\"One\\\",\\\"Predictions\\\":\\\"One\\\",\\\"SessionLabel\\\":null},{\\\"Id\\\":\\\"163\\\",\\\"Labels\\\":\\\"None\\\",\\\"Predictions\\\":\\\"Zero\\\",\\\"SessionLabel\\\":null},{\\\"Id\\\":\\\"164\\\",\\\"Labels\\\":\\\"None\\\",\\\"Predictions\\\":\\\"One\\\",\\\"SessionLabel\\\":null},{\\\"Id\\\":\\\"165\\\",\\\"Labels\\\":\\\"None\\\",\\\"Predictions\\\":\\\"Zero\\\",\\\"SessionLabel\\\":null},{\\\"Id\\\":\\\"166\\\",\\\"Labels\\\":\\\"None\\\",\\\"Predictions\\\":\\\"One\\\",\\\"SessionLabel\\\":null},{\\\"Id\\\":\\\"167\\\",\\\"Labels\\\":\\\"None\\\",\\\"Predictions\\\":\\\"One\\\",\\\"SessionLabel\\\":null},{\\\"Id\\\":\\\"168\\\",\\\"Labels\\\":\\\"None\\\",\\\"Predictions\\\":\\\"One\\\",\\\"SessionLabel\\\":null},{\\\"Id\\\":\\\"169\\\",\\\"Labels\\\":\\\"None\\\",\\\"Predictions\\\":\\\"One\\\",\\\"SessionLabel\\\":null},{\\\"Id\\\":\\\"170\\\",\\\"Labels\\\":\\\"None\\\",\\\"Predictions\\\":\\\"One\\\",\\\"SessionLabel\\\":null},{\\\"Id\\\":\\\"171\\\",\\\"Labels\\\":\\\"None\\\",\\\"Predictions\\\":\\\"One\\\",\\\"SessionLabel\\\":null},{\\\"Id\\\":\\\"172\\\",\\\"Labels\\\":\\\"None\\\",\\\"Predictions\\\":\\\"Zero\\\",\\\"SessionLabel\\\":null},{\\\"Id\\\":\\\"173\\\",\\\"Labels\\\":\\\"None\\\",\\\"Predictions\\\":\\\"Zero\\\",\\\"SessionLabel\\\":null},{\\\"Id\\\":\\\"174\\\",\\\"Labels\\\":\\\"None\\\",\\\"Predictions\\\":\\\"One\\\",\\\"SessionLabel\\\":null},{\\\"Id\\\":\\\"175\\\",\\\"Labels\\\":\\\"None\\\",\\\"Predictions\\\":\\\"One\\\",\\\"SessionLabel\\\":null},{\\\"Id\\\":\\\"176\\\",\\\"Labels\\\":\\\"None\\\",\\\"Predictions\\\":\\\"Zero\\\",\\\"SessionLabel\\\":null},{\\\"Id\\\":\\\"177\\\",\\\"Labels\\\":\\\"None\\\",\\\"Predictions\\\":\\\"Zero\\\",\\\"SessionLabel\\\":null},{\\\"Id\\\":\\\"178\\\",\\\"Labels\\\":\\\"None\\\",\\\"Predictions\\\":\\\"Zero\\\",\\\"SessionLabel\\\":null},{\\\"Id\\\":\\\"179\\\",\\\"Labels\\\":\\\"None\\\",\\\"Predictions\\\":\\\"One\\\",\\\"SessionLabel\\\":null},{\\\"Id\\\":\\\"180\\\",\\\"Labels\\\":\\\"None\\\",\\\"Predictions\\\":\\\"Zero\\\",\\\"SessionLabel\\\":null},{\\\"Id\\\":\\\"181\\\",\\\"Labels\\\":\\\"None\\\",\\\"Predictions\\\":\\\"Zero\\\",\\\"SessionLabel\\\":null},{\\\"Id\\\":\\\"182\\\",\\\"Labels\\\":\\\"None\\\",\\\"Predictions\\\":\\\"Zero\\\",\\\"SessionLabel\\\":null},{\\\"Id\\\":\\\"183\\\",\\\"Labels\\\":\\\"None\\\",\\\"Predictions\\\":\\\"Zero\\\",\\\"SessionLabel\\\":null},{\\\"Id\\\":\\\"184\\\",\\\"Labels\\\":\\\"None\\\",\\\"Predictions\\\":\\\"Zero\\\",\\\"SessionLabel\\\":null},{\\\"Id\\\":\\\"185\\\",\\\"Labels\\\":\\\"None\\\",\\\"Predictions\\\":\\\"One\\\",\\\"SessionLabel\\\":null},{\\\"Id\\\":\\\"186\\\",\\\"Labels\\\":\\\"None\\\",\\\"Predictions\\\":\\\"One\\\",\\\"SessionLabel\\\":null},{\\\"Id\\\":\\\"187\\\",\\\"Labels\\\":\\\"None\\\",\\\"Predictions\\\":\\\"One\\\",\\\"SessionLabel\\\":null},{\\\"Id\\\":\\\"188\\\",\\\"Labels\\\":\\\"None\\\",\\\"Predictions\\\":\\\"Zero\\\",\\\"SessionLabel\\\":null},{\\\"Id\\\":\\\"189\\\",\\\"Labels\\\":\\\"None\\\",\\\"Predictions\\\":\\\"One\\\",\\\"SessionLabel\\\":null},{\\\"Id\\\":\\\"190\\\",\\\"Labels\\\":\\\"None\\\",\\\"Predictions\\\":\\\"One\\\",\\\"SessionLabel\\\":null},{\\\"Id\\\":\\\"191\\\",\\\"Labels\\\":\\\"None\\\",\\\"Predictions\\\":\\\"One\\\",\\\"SessionLabel\\\":null},{\\\"Id\\\":\\\"192\\\",\\\"Labels\\\":\\\"None\\\",\\\"Predictions\\\":\\\"One\\\",\\\"SessionLabel\\\":null},{\\\"Id\\\":\\\"193\\\",\\\"Labels\\\":\\\"None\\\",\\\"Predictions\\\":\\\"One\\\",\\\"SessionLabel\\\":null},{\\\"Id\\\":\\\"194\\\",\\\"Labels\\\":\\\"None\\\",\\\"Predictions\\\":\\\"Zero\\\",\\\"SessionLabel\\\":null},{\\\"Id\\\":\\\"195\\\",\\\"Labels\\\":\\\"None\\\",\\\"Predictions\\\":\\\"One\\\",\\\"SessionLabel\\\":null},{\\\"Id\\\":\\\"196\\\",\\\"Labels\\\":\\\"None\\\",\\\"Predictions\\\":\\\"One\\\",\\\"SessionLabel\\\":null},{\\\"Id\\\":\\\"197\\\",\\\"Labels\\\":\\\"None\\\",\\\"Predictions\\\":\\\"One\\\",\\\"SessionLabel\\\":null},{\\\"Id\\\":\\\"198\\\",\\\"Labels\\\":\\\"One\\\",\\\"Predictions\\\":\\\"One\\\",\\\"SessionLabel\\\":null},{\\\"Id\\\":\\\"199\\\",\\\"Labels\\\":\\\"None\\\",\\\"Predictions\\\":\\\"One\\\",\\\"SessionLabel\\\":null},{\\\"Id\\\":\\\"200\\\",\\\"Labels\\\":\\\"None\\\",\\\"Predictions\\\":\\\"One\\\",\\\"SessionLabel\\\":null},{\\\"Id\\\":\\\"201\\\",\\\"Labels\\\":\\\"None\\\",\\\"Predictions\\\":\\\"Zero\\\",\\\"SessionLabel\\\":null},{\\\"Id\\\":\\\"202\\\",\\\"Labels\\\":\\\"None\\\",\\\"Predictions\\\":\\\"One\\\",\\\"SessionLabel\\\":null},{\\\"Id\\\":\\\"203\\\",\\\"Labels\\\":\\\"None\\\",\\\"Predictions\\\":\\\"One\\\",\\\"SessionLabel\\\":null},{\\\"Id\\\":\\\"204\\\",\\\"Labels\\\":\\\"None\\\",\\\"Predictions\\\":\\\"Zero\\\",\\\"SessionLabel\\\":null},{\\\"Id\\\":\\\"205\\\",\\\"Labels\\\":\\\"None\\\",\\\"Predictions\\\":\\\"Zero\\\",\\\"SessionLabel\\\":null},{\\\"Id\\\":\\\"206\\\",\\\"Labels\\\":\\\"None\\\",\\\"Predictions\\\":\\\"Zero\\\",\\\"SessionLabel\\\":null},{\\\"Id\\\":\\\"207\\\",\\\"Labels\\\":\\\"None\\\",\\\"Predictions\\\":\\\"One\\\",\\\"SessionLabel\\\":null},{\\\"Id\\\":\\\"208\\\",\\\"Labels\\\":\\\"None\\\",\\\"Predictions\\\":\\\"Zero\\\",\\\"SessionLabel\\\":null},{\\\"Id\\\":\\\"209\\\",\\\"Labels\\\":\\\"None\\\",\\\"Predictions\\\":\\\"Zero\\\",\\\"SessionLabel\\\":null},{\\\"Id\\\":\\\"210\\\",\\\"Labels\\\":\\\"None\\\",\\\"Predictions\\\":\\\"One\\\",\\\"SessionLabel\\\":null},{\\\"Id\\\":\\\"211\\\",\\\"Labels\\\":\\\"None\\\",\\\"Predictions\\\":\\\"Zero\\\",\\\"SessionLabel\\\":null},{\\\"Id\\\":\\\"212\\\",\\\"Labels\\\":\\\"None\\\",\\\"Predictions\\\":\\\"Zero\\\",\\\"SessionLabel\\\":null},{\\\"Id\\\":\\\"213\\\",\\\"Labels\\\":\\\"None\\\",\\\"Predictions\\\":\\\"Zero\\\",\\\"SessionLabel\\\":null},{\\\"Id\\\":\\\"214\\\",\\\"Labels\\\":\\\"None\\\",\\\"Predictions\\\":\\\"Zero\\\",\\\"SessionLabel\\\":null},{\\\"Id\\\":\\\"215\\\",\\\"Labels\\\":\\\"None\\\",\\\"Predictions\\\":\\\"One\\\",\\\"SessionLabel\\\":null},{\\\"Id\\\":\\\"216\\\",\\\"Labels\\\":\\\"None\\\",\\\"Predictions\\\":\\\"One\\\",\\\"SessionLabel\\\":null},{\\\"Id\\\":\\\"217\\\",\\\"Labels\\\":\\\"None\\\",\\\"Predictions\\\":\\\"One\\\",\\\"SessionLabel\\\":null},{\\\"Id\\\":\\\"218\\\",\\\"Labels\\\":\\\"None\\\",\\\"Predictions\\\":\\\"Zero\\\",\\\"SessionLabel\\\":null},{\\\"Id\\\":\\\"219\\\",\\\"Labels\\\":\\\"None\\\",\\\"Predictions\\\":\\\"Zero\\\",\\\"SessionLabel\\\":null},{\\\"Id\\\":\\\"220\\\",\\\"Labels\\\":\\\"None\\\",\\\"Predictions\\\":\\\"Zero\\\",\\\"SessionLabel\\\":null},{\\\"Id\\\":\\\"221\\\",\\\"Labels\\\":\\\"None\\\",\\\"Predictions\\\":\\\"One\\\",\\\"SessionLabel\\\":null},{\\\"Id\\\":\\\"222\\\",\\\"Labels\\\":\\\"None\\\",\\\"Predictions\\\":\\\"Zero\\\",\\\"SessionLabel\\\":null},{\\\"Id\\\":\\\"223\\\",\\\"Labels\\\":\\\"Zero\\\",\\\"Predictions\\\":\\\"Zero\\\",\\\"SessionLabel\\\":null},{\\\"Id\\\":\\\"224\\\",\\\"Labels\\\":\\\"None\\\",\\\"Predictions\\\":\\\"One\\\",\\\"SessionLabel\\\":null},{\\\"Id\\\":\\\"225\\\",\\\"Labels\\\":\\\"None\\\",\\\"Predictions\\\":\\\"Zero\\\",\\\"SessionLabel\\\":null},{\\\"Id\\\":\\\"226\\\",\\\"Labels\\\":\\\"Zero\\\",\\\"Predictions\\\":\\\"Zero\\\",\\\"SessionLabel\\\":null},{\\\"Id\\\":\\\"227\\\",\\\"Labels\\\":\\\"None\\\",\\\"Predictions\\\":\\\"Zero\\\",\\\"SessionLabel\\\":null},{\\\"Id\\\":\\\"228\\\",\\\"Labels\\\":\\\"None\\\",\\\"Predictions\\\":\\\"One\\\",\\\"SessionLabel\\\":null},{\\\"Id\\\":\\\"229\\\",\\\"Labels\\\":\\\"None\\\",\\\"Predictions\\\":\\\"Zero\\\",\\\"SessionLabel\\\":null},{\\\"Id\\\":\\\"230\\\",\\\"Labels\\\":\\\"None\\\",\\\"Predictions\\\":\\\"One\\\",\\\"SessionLabel\\\":null},{\\\"Id\\\":\\\"231\\\",\\\"Labels\\\":\\\"None\\\",\\\"Predictions\\\":\\\"Zero\\\",\\\"SessionLabel\\\":null},{\\\"Id\\\":\\\"232\\\",\\\"Labels\\\":\\\"None\\\",\\\"Predictions\\\":\\\"Zero\\\",\\\"SessionLabel\\\":null},{\\\"Id\\\":\\\"233\\\",\\\"Labels\\\":\\\"Zero\\\",\\\"Predictions\\\":\\\"Zero\\\",\\\"SessionLabel\\\":null},{\\\"Id\\\":\\\"234\\\",\\\"Labels\\\":\\\"None\\\",\\\"Predictions\\\":\\\"Zero\\\",\\\"SessionLabel\\\":null},{\\\"Id\\\":\\\"235\\\",\\\"Labels\\\":\\\"None\\\",\\\"Predictions\\\":\\\"Zero\\\",\\\"SessionLabel\\\":null},{\\\"Id\\\":\\\"236\\\",\\\"Labels\\\":\\\"None\\\",\\\"Predictions\\\":\\\"Zero\\\",\\\"SessionLabel\\\":null},{\\\"Id\\\":\\\"237\\\",\\\"Labels\\\":\\\"None\\\",\\\"Predictions\\\":\\\"Zero\\\",\\\"SessionLabel\\\":null},{\\\"Id\\\":\\\"238\\\",\\\"Labels\\\":\\\"None\\\",\\\"Predictions\\\":\\\"One\\\",\\\"SessionLabel\\\":null},{\\\"Id\\\":\\\"239\\\",\\\"Labels\\\":\\\"None\\\",\\\"Predictions\\\":\\\"Zero\\\",\\\"SessionLabel\\\":null},{\\\"Id\\\":\\\"240\\\",\\\"Labels\\\":\\\"None\\\",\\\"Predictions\\\":\\\"One\\\",\\\"SessionLabel\\\":null},{\\\"Id\\\":\\\"241\\\",\\\"Labels\\\":\\\"None\\\",\\\"Predictions\\\":\\\"Zero\\\",\\\"SessionLabel\\\":null},{\\\"Id\\\":\\\"242\\\",\\\"Labels\\\":\\\"None\\\",\\\"Predictions\\\":\\\"Zero\\\",\\\"SessionLabel\\\":null},{\\\"Id\\\":\\\"243\\\",\\\"Labels\\\":\\\"None\\\",\\\"Predictions\\\":\\\"One\\\",\\\"SessionLabel\\\":null},{\\\"Id\\\":\\\"244\\\",\\\"Labels\\\":\\\"None\\\",\\\"Predictions\\\":\\\"Zero\\\",\\\"SessionLabel\\\":null},{\\\"Id\\\":\\\"245\\\",\\\"Labels\\\":\\\"None\\\",\\\"Predictions\\\":\\\"One\\\",\\\"SessionLabel\\\":null},{\\\"Id\\\":\\\"246\\\",\\\"Labels\\\":\\\"None\\\",\\\"Predictions\\\":\\\"One\\\",\\\"SessionLabel\\\":null},{\\\"Id\\\":\\\"247\\\",\\\"Labels\\\":\\\"None\\\",\\\"Predictions\\\":\\\"One\\\",\\\"SessionLabel\\\":null},{\\\"Id\\\":\\\"248\\\",\\\"Labels\\\":\\\"None\\\",\\\"Predictions\\\":\\\"Zero\\\",\\\"SessionLabel\\\":null},{\\\"Id\\\":\\\"249\\\",\\\"Labels\\\":\\\"None\\\",\\\"Predictions\\\":\\\"Zero\\\",\\\"SessionLabel\\\":null},{\\\"Id\\\":\\\"250\\\",\\\"Labels\\\":\\\"None\\\",\\\"Predictions\\\":\\\"Zero\\\",\\\"SessionLabel\\\":null},{\\\"Id\\\":\\\"251\\\",\\\"Labels\\\":\\\"None\\\",\\\"Predictions\\\":\\\"One\\\",\\\"SessionLabel\\\":null},{\\\"Id\\\":\\\"252\\\",\\\"Labels\\\":\\\"None\\\",\\\"Predictions\\\":\\\"One\\\",\\\"SessionLabel\\\":null},{\\\"Id\\\":\\\"253\\\",\\\"Labels\\\":\\\"None\\\",\\\"Predictions\\\":\\\"Zero\\\",\\\"SessionLabel\\\":null},{\\\"Id\\\":\\\"254\\\",\\\"Labels\\\":\\\"None\\\",\\\"Predictions\\\":\\\"Zero\\\",\\\"SessionLabel\\\":null},{\\\"Id\\\":\\\"255\\\",\\\"Labels\\\":\\\"None\\\",\\\"Predictions\\\":\\\"One\\\",\\\"SessionLabel\\\":null},{\\\"Id\\\":\\\"256\\\",\\\"Labels\\\":\\\"None\\\",\\\"Predictions\\\":\\\"Zero\\\",\\\"SessionLabel\\\":null},{\\\"Id\\\":\\\"257\\\",\\\"Labels\\\":\\\"None\\\",\\\"Predictions\\\":\\\"One\\\",\\\"SessionLabel\\\":null},{\\\"Id\\\":\\\"258\\\",\\\"Labels\\\":\\\"None\\\",\\\"Predictions\\\":\\\"Zero\\\",\\\"SessionLabel\\\":null},{\\\"Id\\\":\\\"259\\\",\\\"Labels\\\":\\\"None\\\",\\\"Predictions\\\":\\\"One\\\",\\\"SessionLabel\\\":null},{\\\"Id\\\":\\\"260\\\",\\\"Labels\\\":\\\"None\\\",\\\"Predictions\\\":\\\"Zero\\\",\\\"SessionLabel\\\":null},{\\\"Id\\\":\\\"261\\\",\\\"Labels\\\":\\\"None\\\",\\\"Predictions\\\":\\\"One\\\",\\\"SessionLabel\\\":null},{\\\"Id\\\":\\\"262\\\",\\\"Labels\\\":\\\"None\\\",\\\"Predictions\\\":\\\"One\\\",\\\"SessionLabel\\\":null},{\\\"Id\\\":\\\"263\\\",\\\"Labels\\\":\\\"None\\\",\\\"Predictions\\\":\\\"Zero\\\",\\\"SessionLabel\\\":null},{\\\"Id\\\":\\\"264\\\",\\\"Labels\\\":\\\"None\\\",\\\"Predictions\\\":\\\"One\\\",\\\"SessionLabel\\\":null},{\\\"Id\\\":\\\"265\\\",\\\"Labels\\\":\\\"None\\\",\\\"Predictions\\\":\\\"One\\\",\\\"SessionLabel\\\":null},{\\\"Id\\\":\\\"266\\\",\\\"Labels\\\":\\\"None\\\",\\\"Predictions\\\":\\\"Zero\\\",\\\"SessionLabel\\\":null},{\\\"Id\\\":\\\"267\\\",\\\"Labels\\\":\\\"None\\\",\\\"Predictions\\\":\\\"One\\\",\\\"SessionLabel\\\":null},{\\\"Id\\\":\\\"268\\\",\\\"Labels\\\":\\\"None\\\",\\\"Predictions\\\":\\\"One\\\",\\\"SessionLabel\\\":null},{\\\"Id\\\":\\\"269\\\",\\\"Labels\\\":\\\"None\\\",\\\"Predictions\\\":\\\"Zero\\\",\\\"SessionLabel\\\":null},{\\\"Id\\\":\\\"270\\\",\\\"Labels\\\":\\\"None\\\",\\\"Predictions\\\":\\\"Zero\\\",\\\"SessionLabel\\\":null},{\\\"Id\\\":\\\"271\\\",\\\"Labels\\\":\\\"None\\\",\\\"Predictions\\\":\\\"Zero\\\",\\\"SessionLabel\\\":null},{\\\"Id\\\":\\\"272\\\",\\\"Labels\\\":\\\"None\\\",\\\"Predictions\\\":\\\"Zero\\\",\\\"SessionLabel\\\":null},{\\\"Id\\\":\\\"273\\\",\\\"Labels\\\":\\\"None\\\",\\\"Predictions\\\":\\\"One\\\",\\\"SessionLabel\\\":null},{\\\"Id\\\":\\\"274\\\",\\\"Labels\\\":\\\"None\\\",\\\"Predictions\\\":\\\"Zero\\\",\\\"SessionLabel\\\":null},{\\\"Id\\\":\\\"275\\\",\\\"Labels\\\":\\\"None\\\",\\\"Predictions\\\":\\\"Zero\\\",\\\"SessionLabel\\\":null},{\\\"Id\\\":\\\"276\\\",\\\"Labels\\\":\\\"None\\\",\\\"Predictions\\\":\\\"Zero\\\",\\\"SessionLabel\\\":null},{\\\"Id\\\":\\\"277\\\",\\\"Labels\\\":\\\"None\\\",\\\"Predictions\\\":\\\"One\\\",\\\"SessionLabel\\\":null},{\\\"Id\\\":\\\"278\\\",\\\"Labels\\\":\\\"None\\\",\\\"Predictions\\\":\\\"One\\\",\\\"SessionLabel\\\":null},{\\\"Id\\\":\\\"279\\\",\\\"Labels\\\":\\\"None\\\",\\\"Predictions\\\":\\\"One\\\",\\\"SessionLabel\\\":null},{\\\"Id\\\":\\\"280\\\",\\\"Labels\\\":\\\"None\\\",\\\"Predictions\\\":\\\"Zero\\\",\\\"SessionLabel\\\":null},{\\\"Id\\\":\\\"281\\\",\\\"Labels\\\":\\\"None\\\",\\\"Predictions\\\":\\\"Zero\\\",\\\"SessionLabel\\\":null},{\\\"Id\\\":\\\"282\\\",\\\"Labels\\\":\\\"None\\\",\\\"Predictions\\\":\\\"One\\\",\\\"SessionLabel\\\":null},{\\\"Id\\\":\\\"283\\\",\\\"Labels\\\":\\\"None\\\",\\\"Predictions\\\":\\\"One\\\",\\\"SessionLabel\\\":null},{\\\"Id\\\":\\\"284\\\",\\\"Labels\\\":\\\"None\\\",\\\"Predictions\\\":\\\"One\\\",\\\"SessionLabel\\\":null},{\\\"Id\\\":\\\"285\\\",\\\"Labels\\\":\\\"None\\\",\\\"Predictions\\\":\\\"One\\\",\\\"SessionLabel\\\":null},{\\\"Id\\\":\\\"286\\\",\\\"Labels\\\":\\\"None\\\",\\\"Predictions\\\":\\\"Zero\\\",\\\"SessionLabel\\\":null},{\\\"Id\\\":\\\"287\\\",\\\"Labels\\\":\\\"None\\\",\\\"Predictions\\\":\\\"One\\\",\\\"SessionLabel\\\":null},{\\\"Id\\\":\\\"288\\\",\\\"Labels\\\":\\\"None\\\",\\\"Predictions\\\":\\\"Zero\\\",\\\"SessionLabel\\\":null},{\\\"Id\\\":\\\"289\\\",\\\"Labels\\\":\\\"None\\\",\\\"Predictions\\\":\\\"Zero\\\",\\\"SessionLabel\\\":null},{\\\"Id\\\":\\\"290\\\",\\\"Labels\\\":\\\"None\\\",\\\"Predictions\\\":\\\"One\\\",\\\"SessionLabel\\\":null},{\\\"Id\\\":\\\"291\\\",\\\"Labels\\\":\\\"None\\\",\\\"Predictions\\\":\\\"Zero\\\",\\\"SessionLabel\\\":null},{\\\"Id\\\":\\\"292\\\",\\\"Labels\\\":\\\"None\\\",\\\"Predictions\\\":\\\"Zero\\\",\\\"SessionLabel\\\":null},{\\\"Id\\\":\\\"293\\\",\\\"Labels\\\":\\\"None\\\",\\\"Predictions\\\":\\\"One\\\",\\\"SessionLabel\\\":null},{\\\"Id\\\":\\\"294\\\",\\\"Labels\\\":\\\"None\\\",\\\"Predictions\\\":\\\"Zero\\\",\\\"SessionLabel\\\":null},{\\\"Id\\\":\\\"295\\\",\\\"Labels\\\":\\\"None\\\",\\\"Predictions\\\":\\\"One\\\",\\\"SessionLabel\\\":null},{\\\"Id\\\":\\\"296\\\",\\\"Labels\\\":\\\"None\\\",\\\"Predictions\\\":\\\"One\\\",\\\"SessionLabel\\\":null},{\\\"Id\\\":\\\"297\\\",\\\"Labels\\\":\\\"None\\\",\\\"Predictions\\\":\\\"Zero\\\",\\\"SessionLabel\\\":null},{\\\"Id\\\":\\\"298\\\",\\\"Labels\\\":\\\"None\\\",\\\"Predictions\\\":\\\"One\\\",\\\"SessionLabel\\\":null},{\\\"Id\\\":\\\"299\\\",\\\"Labels\\\":\\\"None\\\",\\\"Predictions\\\":\\\"One\\\",\\\"SessionLabel\\\":null},{\\\"Id\\\":\\\"300\\\",\\\"Labels\\\":\\\"None\\\",\\\"Predictions\\\":\\\"Zero\\\",\\\"SessionLabel\\\":null},{\\\"Id\\\":\\\"301\\\",\\\"Labels\\\":\\\"None\\\",\\\"Predictions\\\":\\\"Zero\\\",\\\"SessionLabel\\\":null},{\\\"Id\\\":\\\"302\\\",\\\"Labels\\\":\\\"None\\\",\\\"Predictions\\\":\\\"Zero\\\",\\\"SessionLabel\\\":null},{\\\"Id\\\":\\\"303\\\",\\\"Labels\\\":\\\"One\\\",\\\"Predictions\\\":\\\"One\\\",\\\"SessionLabel\\\":null},{\\\"Id\\\":\\\"304\\\",\\\"Labels\\\":\\\"None\\\",\\\"Predictions\\\":\\\"Zero\\\",\\\"SessionLabel\\\":null},{\\\"Id\\\":\\\"305\\\",\\\"Labels\\\":\\\"None\\\",\\\"Predictions\\\":\\\"Zero\\\",\\\"SessionLabel\\\":null},{\\\"Id\\\":\\\"306\\\",\\\"Labels\\\":\\\"None\\\",\\\"Predictions\\\":\\\"One\\\",\\\"SessionLabel\\\":null},{\\\"Id\\\":\\\"307\\\",\\\"Labels\\\":\\\"None\\\",\\\"Predictions\\\":\\\"Zero\\\",\\\"SessionLabel\\\":null},{\\\"Id\\\":\\\"308\\\",\\\"Labels\\\":\\\"None\\\",\\\"Predictions\\\":\\\"One\\\",\\\"SessionLabel\\\":null},{\\\"Id\\\":\\\"309\\\",\\\"Labels\\\":\\\"None\\\",\\\"Predictions\\\":\\\"One\\\",\\\"SessionLabel\\\":null},{\\\"Id\\\":\\\"310\\\",\\\"Labels\\\":\\\"None\\\",\\\"Predictions\\\":\\\"Zero\\\",\\\"SessionLabel\\\":null},{\\\"Id\\\":\\\"311\\\",\\\"Labels\\\":\\\"None\\\",\\\"Predictions\\\":\\\"One\\\",\\\"SessionLabel\\\":null},{\\\"Id\\\":\\\"312\\\",\\\"Labels\\\":\\\"None\\\",\\\"Predictions\\\":\\\"One\\\",\\\"SessionLabel\\\":null},{\\\"Id\\\":\\\"313\\\",\\\"Labels\\\":\\\"None\\\",\\\"Predictions\\\":\\\"One\\\",\\\"SessionLabel\\\":null},{\\\"Id\\\":\\\"314\\\",\\\"Labels\\\":\\\"None\\\",\\\"Predictions\\\":\\\"Zero\\\",\\\"SessionLabel\\\":null},{\\\"Id\\\":\\\"315\\\",\\\"Labels\\\":\\\"None\\\",\\\"Predictions\\\":\\\"Zero\\\",\\\"SessionLabel\\\":null},{\\\"Id\\\":\\\"316\\\",\\\"Labels\\\":\\\"None\\\",\\\"Predictions\\\":\\\"Zero\\\",\\\"SessionLabel\\\":null},{\\\"Id\\\":\\\"317\\\",\\\"Labels\\\":\\\"None\\\",\\\"Predictions\\\":\\\"One\\\",\\\"SessionLabel\\\":null},{\\\"Id\\\":\\\"318\\\",\\\"Labels\\\":\\\"None\\\",\\\"Predictions\\\":\\\"One\\\",\\\"SessionLabel\\\":null},{\\\"Id\\\":\\\"319\\\",\\\"Labels\\\":\\\"None\\\",\\\"Predictions\\\":\\\"Zero\\\",\\\"SessionLabel\\\":null},{\\\"Id\\\":\\\"320\\\",\\\"Labels\\\":\\\"None\\\",\\\"Predictions\\\":\\\"One\\\",\\\"SessionLabel\\\":null},{\\\"Id\\\":\\\"321\\\",\\\"Labels\\\":\\\"None\\\",\\\"Predictions\\\":\\\"One\\\",\\\"SessionLabel\\\":null},{\\\"Id\\\":\\\"322\\\",\\\"Labels\\\":\\\"None\\\",\\\"Predictions\\\":\\\"Zero\\\",\\\"SessionLabel\\\":null},{\\\"Id\\\":\\\"323\\\",\\\"Labels\\\":\\\"None\\\",\\\"Predictions\\\":\\\"Zero\\\",\\\"SessionLabel\\\":null},{\\\"Id\\\":\\\"324\\\",\\\"Labels\\\":\\\"None\\\",\\\"Predictions\\\":\\\"One\\\",\\\"SessionLabel\\\":null},{\\\"Id\\\":\\\"325\\\",\\\"Labels\\\":\\\"Zero\\\",\\\"Predictions\\\":\\\"Zero\\\",\\\"SessionLabel\\\":null},{\\\"Id\\\":\\\"326\\\",\\\"Labels\\\":\\\"None\\\",\\\"Predictions\\\":\\\"One\\\",\\\"SessionLabel\\\":null},{\\\"Id\\\":\\\"327\\\",\\\"Labels\\\":\\\"None\\\",\\\"Predictions\\\":\\\"One\\\",\\\"SessionLabel\\\":null},{\\\"Id\\\":\\\"328\\\",\\\"Labels\\\":\\\"None\\\",\\\"Predictions\\\":\\\"One\\\",\\\"SessionLabel\\\":null},{\\\"Id\\\":\\\"329\\\",\\\"Labels\\\":\\\"None\\\",\\\"Predictions\\\":\\\"One\\\",\\\"SessionLabel\\\":null},{\\\"Id\\\":\\\"330\\\",\\\"Labels\\\":\\\"None\\\",\\\"Predictions\\\":\\\"Zero\\\",\\\"SessionLabel\\\":null},{\\\"Id\\\":\\\"331\\\",\\\"Labels\\\":\\\"None\\\",\\\"Predictions\\\":\\\"One\\\",\\\"SessionLabel\\\":null},{\\\"Id\\\":\\\"332\\\",\\\"Labels\\\":\\\"None\\\",\\\"Predictions\\\":\\\"Zero\\\",\\\"SessionLabel\\\":null},{\\\"Id\\\":\\\"333\\\",\\\"Labels\\\":\\\"None\\\",\\\"Predictions\\\":\\\"One\\\",\\\"SessionLabel\\\":null},{\\\"Id\\\":\\\"334\\\",\\\"Labels\\\":\\\"None\\\",\\\"Predictions\\\":\\\"Zero\\\",\\\"SessionLabel\\\":null},{\\\"Id\\\":\\\"335\\\",\\\"Labels\\\":\\\"One\\\",\\\"Predictions\\\":\\\"One\\\",\\\"SessionLabel\\\":null},{\\\"Id\\\":\\\"336\\\",\\\"Labels\\\":\\\"None\\\",\\\"Predictions\\\":\\\"One\\\",\\\"SessionLabel\\\":null},{\\\"Id\\\":\\\"337\\\",\\\"Labels\\\":\\\"None\\\",\\\"Predictions\\\":\\\"Zero\\\",\\\"SessionLabel\\\":null},{\\\"Id\\\":\\\"338\\\",\\\"Labels\\\":\\\"None\\\",\\\"Predictions\\\":\\\"One\\\",\\\"SessionLabel\\\":null},{\\\"Id\\\":\\\"339\\\",\\\"Labels\\\":\\\"None\\\",\\\"Predictions\\\":\\\"One\\\",\\\"SessionLabel\\\":null},{\\\"Id\\\":\\\"340\\\",\\\"Labels\\\":\\\"None\\\",\\\"Predictions\\\":\\\"Zero\\\",\\\"SessionLabel\\\":null},{\\\"Id\\\":\\\"341\\\",\\\"Labels\\\":\\\"None\\\",\\\"Predictions\\\":\\\"Zero\\\",\\\"SessionLabel\\\":null},{\\\"Id\\\":\\\"342\\\",\\\"Labels\\\":\\\"None\\\",\\\"Predictions\\\":\\\"One\\\",\\\"SessionLabel\\\":null},{\\\"Id\\\":\\\"343\\\",\\\"Labels\\\":\\\"None\\\",\\\"Predictions\\\":\\\"One\\\",\\\"SessionLabel\\\":null},{\\\"Id\\\":\\\"344\\\",\\\"Labels\\\":\\\"None\\\",\\\"Predictions\\\":\\\"One\\\",\\\"SessionLabel\\\":null},{\\\"Id\\\":\\\"345\\\",\\\"Labels\\\":\\\"None\\\",\\\"Predictions\\\":\\\"One\\\",\\\"SessionLabel\\\":null},{\\\"Id\\\":\\\"346\\\",\\\"Labels\\\":\\\"None\\\",\\\"Predictions\\\":\\\"Zero\\\",\\\"SessionLabel\\\":null},{\\\"Id\\\":\\\"347\\\",\\\"Labels\\\":\\\"None\\\",\\\"Predictions\\\":\\\"Zero\\\",\\\"SessionLabel\\\":null},{\\\"Id\\\":\\\"348\\\",\\\"Labels\\\":\\\"None\\\",\\\"Predictions\\\":\\\"One\\\",\\\"SessionLabel\\\":null},{\\\"Id\\\":\\\"349\\\",\\\"Labels\\\":\\\"None\\\",\\\"Predictions\\\":\\\"Zero\\\",\\\"SessionLabel\\\":null},{\\\"Id\\\":\\\"350\\\",\\\"Labels\\\":\\\"None\\\",\\\"Predictions\\\":\\\"One\\\",\\\"SessionLabel\\\":null},{\\\"Id\\\":\\\"351\\\",\\\"Labels\\\":\\\"None\\\",\\\"Predictions\\\":\\\"Zero\\\",\\\"SessionLabel\\\":null},{\\\"Id\\\":\\\"352\\\",\\\"Labels\\\":\\\"None\\\",\\\"Predictions\\\":\\\"One\\\",\\\"SessionLabel\\\":null},{\\\"Id\\\":\\\"353\\\",\\\"Labels\\\":\\\"None\\\",\\\"Predictions\\\":\\\"Zero\\\",\\\"SessionLabel\\\":null},{\\\"Id\\\":\\\"354\\\",\\\"Labels\\\":\\\"None\\\",\\\"Predictions\\\":\\\"One\\\",\\\"SessionLabel\\\":null},{\\\"Id\\\":\\\"355\\\",\\\"Labels\\\":\\\"None\\\",\\\"Predictions\\\":\\\"One\\\",\\\"SessionLabel\\\":null},{\\\"Id\\\":\\\"356\\\",\\\"Labels\\\":\\\"None\\\",\\\"Predictions\\\":\\\"Zero\\\",\\\"SessionLabel\\\":null},{\\\"Id\\\":\\\"357\\\",\\\"Labels\\\":\\\"None\\\",\\\"Predictions\\\":\\\"Zero\\\",\\\"SessionLabel\\\":null},{\\\"Id\\\":\\\"358\\\",\\\"Labels\\\":\\\"None\\\",\\\"Predictions\\\":\\\"Zero\\\",\\\"SessionLabel\\\":null},{\\\"Id\\\":\\\"359\\\",\\\"Labels\\\":\\\"None\\\",\\\"Predictions\\\":\\\"Zero\\\",\\\"SessionLabel\\\":null},{\\\"Id\\\":\\\"360\\\",\\\"Labels\\\":\\\"Zero\\\",\\\"Predictions\\\":\\\"Zero\\\",\\\"SessionLabel\\\":null},{\\\"Id\\\":\\\"361\\\",\\\"Labels\\\":\\\"Zero\\\",\\\"Predictions\\\":\\\"Zero\\\",\\\"SessionLabel\\\":null},{\\\"Id\\\":\\\"362\\\",\\\"Labels\\\":\\\"None\\\",\\\"Predictions\\\":\\\"Zero\\\",\\\"SessionLabel\\\":null},{\\\"Id\\\":\\\"363\\\",\\\"Labels\\\":\\\"Zero\\\",\\\"Predictions\\\":\\\"Zero\\\",\\\"SessionLabel\\\":null},{\\\"Id\\\":\\\"364\\\",\\\"Labels\\\":\\\"None\\\",\\\"Predictions\\\":\\\"One\\\",\\\"SessionLabel\\\":null},{\\\"Id\\\":\\\"365\\\",\\\"Labels\\\":\\\"None\\\",\\\"Predictions\\\":\\\"One\\\",\\\"SessionLabel\\\":null},{\\\"Id\\\":\\\"366\\\",\\\"Labels\\\":\\\"None\\\",\\\"Predictions\\\":\\\"One\\\",\\\"SessionLabel\\\":null},{\\\"Id\\\":\\\"367\\\",\\\"Labels\\\":\\\"None\\\",\\\"Predictions\\\":\\\"One\\\",\\\"SessionLabel\\\":null},{\\\"Id\\\":\\\"368\\\",\\\"Labels\\\":\\\"None\\\",\\\"Predictions\\\":\\\"Zero\\\",\\\"SessionLabel\\\":null},{\\\"Id\\\":\\\"369\\\",\\\"Labels\\\":\\\"None\\\",\\\"Predictions\\\":\\\"Zero\\\",\\\"SessionLabel\\\":null},{\\\"Id\\\":\\\"370\\\",\\\"Labels\\\":\\\"None\\\",\\\"Predictions\\\":\\\"Zero\\\",\\\"SessionLabel\\\":null},{\\\"Id\\\":\\\"371\\\",\\\"Labels\\\":\\\"None\\\",\\\"Predictions\\\":\\\"Zero\\\",\\\"SessionLabel\\\":null},{\\\"Id\\\":\\\"372\\\",\\\"Labels\\\":\\\"None\\\",\\\"Predictions\\\":\\\"One\\\",\\\"SessionLabel\\\":null},{\\\"Id\\\":\\\"373\\\",\\\"Labels\\\":\\\"None\\\",\\\"Predictions\\\":\\\"One\\\",\\\"SessionLabel\\\":null},{\\\"Id\\\":\\\"374\\\",\\\"Labels\\\":\\\"One\\\",\\\"Predictions\\\":\\\"One\\\",\\\"SessionLabel\\\":null},{\\\"Id\\\":\\\"375\\\",\\\"Labels\\\":\\\"One\\\",\\\"Predictions\\\":\\\"One\\\",\\\"SessionLabel\\\":null},{\\\"Id\\\":\\\"376\\\",\\\"Labels\\\":\\\"None\\\",\\\"Predictions\\\":\\\"Zero\\\",\\\"SessionLabel\\\":null},{\\\"Id\\\":\\\"377\\\",\\\"Labels\\\":\\\"None\\\",\\\"Predictions\\\":\\\"One\\\",\\\"SessionLabel\\\":null},{\\\"Id\\\":\\\"378\\\",\\\"Labels\\\":\\\"None\\\",\\\"Predictions\\\":\\\"One\\\",\\\"SessionLabel\\\":null},{\\\"Id\\\":\\\"379\\\",\\\"Labels\\\":\\\"None\\\",\\\"Predictions\\\":\\\"One\\\",\\\"SessionLabel\\\":null},{\\\"Id\\\":\\\"380\\\",\\\"Labels\\\":\\\"None\\\",\\\"Predictions\\\":\\\"One\\\",\\\"SessionLabel\\\":null},{\\\"Id\\\":\\\"381\\\",\\\"Labels\\\":\\\"None\\\",\\\"Predictions\\\":\\\"One\\\",\\\"SessionLabel\\\":null},{\\\"Id\\\":\\\"382\\\",\\\"Labels\\\":\\\"None\\\",\\\"Predictions\\\":\\\"Zero\\\",\\\"SessionLabel\\\":null},{\\\"Id\\\":\\\"383\\\",\\\"Labels\\\":\\\"None\\\",\\\"Predictions\\\":\\\"One\\\",\\\"SessionLabel\\\":null},{\\\"Id\\\":\\\"384\\\",\\\"Labels\\\":\\\"None\\\",\\\"Predictions\\\":\\\"One\\\",\\\"SessionLabel\\\":null},{\\\"Id\\\":\\\"385\\\",\\\"Labels\\\":\\\"None\\\",\\\"Predictions\\\":\\\"Zero\\\",\\\"SessionLabel\\\":null},{\\\"Id\\\":\\\"386\\\",\\\"Labels\\\":\\\"None\\\",\\\"Predictions\\\":\\\"One\\\",\\\"SessionLabel\\\":null},{\\\"Id\\\":\\\"387\\\",\\\"Labels\\\":\\\"None\\\",\\\"Predictions\\\":\\\"One\\\",\\\"SessionLabel\\\":null},{\\\"Id\\\":\\\"388\\\",\\\"Labels\\\":\\\"None\\\",\\\"Predictions\\\":\\\"One\\\",\\\"SessionLabel\\\":null},{\\\"Id\\\":\\\"389\\\",\\\"Labels\\\":\\\"None\\\",\\\"Predictions\\\":\\\"Zero\\\",\\\"SessionLabel\\\":null},{\\\"Id\\\":\\\"390\\\",\\\"Labels\\\":\\\"None\\\",\\\"Predictions\\\":\\\"One\\\",\\\"SessionLabel\\\":null},{\\\"Id\\\":\\\"391\\\",\\\"Labels\\\":\\\"None\\\",\\\"Predictions\\\":\\\"One\\\",\\\"SessionLabel\\\":null},{\\\"Id\\\":\\\"392\\\",\\\"Labels\\\":\\\"None\\\",\\\"Predictions\\\":\\\"One\\\",\\\"SessionLabel\\\":null},{\\\"Id\\\":\\\"393\\\",\\\"Labels\\\":\\\"None\\\",\\\"Predictions\\\":\\\"One\\\",\\\"SessionLabel\\\":null},{\\\"Id\\\":\\\"394\\\",\\\"Labels\\\":\\\"None\\\",\\\"Predictions\\\":\\\"One\\\",\\\"SessionLabel\\\":null},{\\\"Id\\\":\\\"395\\\",\\\"Labels\\\":\\\"None\\\",\\\"Predictions\\\":\\\"Zero\\\",\\\"SessionLabel\\\":null},{\\\"Id\\\":\\\"396\\\",\\\"Labels\\\":\\\"None\\\",\\\"Predictions\\\":\\\"Zero\\\",\\\"SessionLabel\\\":null},{\\\"Id\\\":\\\"397\\\",\\\"Labels\\\":\\\"None\\\",\\\"Predictions\\\":\\\"One\\\",\\\"SessionLabel\\\":null},{\\\"Id\\\":\\\"398\\\",\\\"Labels\\\":\\\"None\\\",\\\"Predictions\\\":\\\"One\\\",\\\"SessionLabel\\\":null},{\\\"Id\\\":\\\"399\\\",\\\"Labels\\\":\\\"None\\\",\\\"Predictions\\\":\\\"One\\\",\\\"SessionLabel\\\":null}]');\n",
              "\n",
              "        var totalLength = 0;\n",
              "        document.querySelector(\"#elem\").data = data;\n",
              "        document.querySelector(\"#elem\").atlasUrl = \"data:image/png;base64,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\";\n",
              "        document.getElementById(\"elem\").addEventListener(\"click\", function(e) {\n",
              "            if (selectedClass) {\n",
              "                if (e.ctrlKey || e.metaKey) {\n",
              "                    //var theAnchorTextToRemove = document.getElementById(\"infoCard\").querySelector(\"dd\").innerHTML;\n",
              "\t\t    var theAnchorTextToRemove = document.getElementById(\"elem\").shadowRoot.getElementById(\"infoCard\").shadowRoot.querySelector(\"dd\").innerHTML\n",
              "                    for (var is=0; is<localStorage.length; is++) {\n",
              "                        var tempKeyVal = localStorage.key(is);\n",
              "                        var itemListPreFix = localStorage.getItem(tempKeyVal);\n",
              "                        var itemized = itemListPreFix.split(',');\n",
              "                        var itemListFixed = [];\n",
              "                        var was_removed = false;\n",
              "                        for (var itemnum=0; itemnum<itemized.length; itemnum++) {\n",
              "                            if (itemized[itemnum] !== theAnchorTextToRemove) {\n",
              "                                itemListFixed.push(itemized[itemnum]);\n",
              "                            }\n",
              "                            if (itemized[itemnum] === theAnchorTextToRemove) {\n",
              "                                was_removed = true;\n",
              "                            }\n",
              "                        }\n",
              "                        if (was_removed) {\n",
              "                            totalLength -= 1;\n",
              "                            var counter_element = document.getElementById(\"counter-\" + tempKeyVal);\n",
              "                            counter_element.innerHTML = \"<b>\" + tempKeyVal + \":</b> \" + itemListFixed.length;\n",
              "                            var total_element = document.getElementById(\"counter-total\");\n",
              "                            total_element.innerHTML = \"<b>Total:</b> \" + totalLength;\n",
              "                        }\n",
              "                        localStorage.setItem(tempKeyVal, itemListFixed.join());\n",
              "\n",
              "\n",
              "                    }\n",
              "               }\n",
              "\n",
              "               if (e.shiftKey ) {\n",
              "                    var keyVal = selectedClass;\n",
              "                    //var theAnchorText = document.getElementById(\"infoCard\").shadowRoot.querySelector(\"holder\").shadowRoot.querySelector(\"dd\").innerHTML;\n",
              "\t\t            var theAnchorText = document.getElementById(\"elem\").shadowRoot.getElementById(\"infoCard\").shadowRoot.querySelector(\"dd\").innerHTML\n",
              "\t\t            var existingItem = localStorage.getItem(keyVal);\n",
              "\t\t            \n",
              "\n",
              "\n",
              "                    var found = false;\n",
              "                    for (var i=0; i<localStorage.length; i++){\n",
              "                        var tempKeyVal = localStorage.key(i);\n",
              "                        var tempExistingItem = localStorage.getItem(tempKeyVal);\n",
              "                        if (tempExistingItem) {\n",
              "                            var itemList = tempExistingItem.split(',');\n",
              "                            for (var ii=0; ii<itemList.length && !found; ii++) {\n",
              "                                if (itemList[ii] === theAnchorText) {\n",
              "                                    found = true;\n",
              "                                    break;\n",
              "                                }\n",
              "                            }\n",
              "                        }\n",
              "                    }\n",
              "\n",
              "                    if (!found) {\n",
              "                        totalLength += 1;\n",
              "                        if (!existingItem) {\n",
              "                            existingItem = theAnchorText;\n",
              "                        } else {\n",
              "                            existingItem = (existingItem || \"\") + \",\" + theAnchorText;\n",
              "                        }\n",
              "                        localStorage.setItem(keyVal, existingItem);\n",
              "                        document.cookie = keyVal + \"=\"+localStorage.getItem(keyVal);\n",
              "                        var element = document.getElementById(\"counter-\" + keyVal);\n",
              "                        var total_element = document.getElementById(\"counter-total\");\n",
              "                        element.innerHTML = \"<b>\" + keyVal + \":</b> \" + existingItem.split(\",\").length;\n",
              "                        total_element.innerHTML = \"<b>Total:</b> \" + totalLength;\n",
              "                        for (var ij=0; ij<data.length; ij++) {\n",
              "                            if (data[ij]['Id'] == theAnchorText) {\n",
              "                                data[ij]['SessionLabel'] = keyVal;\n",
              "                            }\n",
              "                       }\n",
              "                    }\n",
              "                }\n",
              "            }\n",
              "        });\n",
              "\n",
              "        document.getElementById(\"reset-button\").addEventListener(\"click\", function() {\n",
              "            var total_element = document.getElementById(\"counter-total\");\n",
              "            total_element.innerHTML = \"<b>Total:</b> 0\";\n",
              "            localStorage.clear();\n",
              "            var cookie = document.cookie.split(';');\n",
              "            for (var i = 0; i < cookie.length; i++) {\n",
              "                var chip = cookie[i],\n",
              "                    entry = chip.split(\"=\"),\n",
              "                    name = entry[0];\n",
              "                document.cookie = name + '=; expires=Thu, 01 Jan 1970 00:00:01 GMT;';}\n",
              "\n",
              "            var counterIds = document.getElementsByClassName('counter-button');\n",
              "            for (var ii=0; ii<counterIds.length; ii++) {\n",
              "                counterIds[ii].style.backgroundColor = '#d9d9d9';\n",
              "                var counterlabel = counterIds[ii].innerHTML;\n",
              "                counterlabel = counterlabel.split(\":\")[0];\n",
              "                counterIds[ii].innerHTML = counterlabel + \":</b> 0\";\n",
              "            }\n",
              "        });\n",
              "\n",
              "        var classname = document.getElementsByClassName(\"class-selector\");\n",
              "        for (var i=0; i<classname.length; i++) {\n",
              "            classname[i].addEventListener('click', function() {\n",
              "                var classNameVal = this.innerHTML;\n",
              "                var keyVal = classNameVal;\n",
              "                selectedClass = keyVal;\n",
              "                var element_button = document.getElementById(\"classselectbutton\");\n",
              "                element_button.innerHTML = \"Select Class: \" + selectedClass;\n",
              "                var counterIds = document.getElementsByClassName('counter-button');\n",
              "                for (var ii=0; ii<counterIds.length; ii++) {\n",
              "                    if (counterIds[ii].id === 'counter-' + keyVal) {\n",
              "                        counterIds[ii].style.backgroundColor = '#1a9850';\n",
              "                    } else {\n",
              "                        counterIds[ii].style.backgroundColor = '#d9d9d9';\n",
              "                    }\n",
              "                }\n",
              "            });\n",
              "        }\n",
              "\n",
              "\n",
              "    </script>\n",
              "\n",
              "</html>\n"
            ],
            "text/plain": [
              "<IPython.core.display.HTML object>"
            ]
          },
          "metadata": {
            "tags": []
          }
        }
      ]
    },
    {
      "cell_type": "markdown",
      "metadata": {
        "id": "ooqANt1wp3jF"
      },
      "source": [
        "##### Instructions on how to label\n",
        "* Click reset to clear the cache. (Don't need to clear the cache if you want to keep labeling that's already done)\n",
        "* Click select class dropdown list to see the list of classes. Select the class you want to label.   \n",
        "* Use shift+click to label instance \n",
        "* Click select class dropdown list and label another class"
      ]
    },
    {
      "cell_type": "markdown",
      "metadata": {
        "id": "xWZjlCifMhC_"
      },
      "source": [
        "### Step 6: Download labeled data from browser cache and store them in a dictionary"
      ]
    },
    {
      "cell_type": "code",
      "metadata": {
        "id": "ZMYScx6-MeRD"
      },
      "source": [
        "label_dict = {}"
      ],
      "execution_count": 59,
      "outputs": []
    },
    {
      "cell_type": "code",
      "metadata": {
        "id": "5Us7OHH1JtFu",
        "outputId": "08925715-db66-4bcc-9c6e-21cbf88fd1a8",
        "colab": {
          "base_uri": "https://localhost:8080/",
          "height": 17
        }
      },
      "source": [
        "# Don't put any other code in this cell. It runs javascript code in background\n",
        "fc.create_labeled_variables(label_dict=label_dict)"
      ],
      "execution_count": 60,
      "outputs": [
        {
          "output_type": "execute_result",
          "data": {
            "application/javascript": [
              "\n",
              "                for (var i=0; i<localStorage.length; i++) {\n",
              "                      var key = localStorage.key(i);\n",
              "                      var existingItem = localStorage.getItem(key);\n",
              "                      var var_name = key;\n",
              "                      if (key === null) {\n",
              "                          continue\n",
              "                      }\n",
              "                      google.colab.kernel.invokeFunction('notebook.AddListItem', [key, existingItem], {});\n",
              "              }\n",
              "              "
            ],
            "text/plain": [
              "<IPython.core.display.Javascript object>"
            ]
          },
          "metadata": {
            "tags": []
          },
          "execution_count": 60
        }
      ]
    },
    {
      "cell_type": "code",
      "metadata": {
        "id": "wt42o5A0Maxi",
        "outputId": "015e4821-d789-4a25-925d-cd8df49f5724",
        "colab": {
          "base_uri": "https://localhost:8080/"
        }
      },
      "source": [
        "label_dict"
      ],
      "execution_count": 61,
      "outputs": [
        {
          "output_type": "execute_result",
          "data": {
            "text/plain": [
              "{'One': '374,375,335,131,198,303,162,81,53',\n",
              " 'Zero': '360,361,363,223,226,233,325'}"
            ]
          },
          "metadata": {
            "tags": []
          },
          "execution_count": 61
        }
      ]
    },
    {
      "cell_type": "code",
      "metadata": {
        "id": "-GjbNRuaovOQ"
      },
      "source": [
        "# Inverse labelDict to eventDict\n",
        "eventDict = {}\n",
        "for key in label_dict.keys():\n",
        "  labels = label_dict[key]\n",
        "  eventIds = labels.split(',')\n",
        "  for event in eventIds:\n",
        "    eventDict[event] = key\n"
      ],
      "execution_count": 62,
      "outputs": []
    },
    {
      "cell_type": "code",
      "metadata": {
        "id": "hkCDfJ-3mOFk"
      },
      "source": [
        "#eventDict"
      ],
      "execution_count": 63,
      "outputs": []
    },
    {
      "cell_type": "code",
      "metadata": {
        "id": "iWOSpBHUOQYf"
      },
      "source": [
        "# Add all the labels as a column in a dataframe\n",
        "id_df['Labels'] = id_df.Id.apply(lambda x : eventDict[x] if x in eventDict else 'None')"
      ],
      "execution_count": 64,
      "outputs": []
    },
    {
      "cell_type": "markdown",
      "metadata": {
        "id": "rJ3z01AhO-sA"
      },
      "source": [
        "### Step 7: Train a simple model using labels"
      ]
    },
    {
      "cell_type": "code",
      "metadata": {
        "id": "JuOkGKcemFn7",
        "outputId": "c45bd7e5-76a3-4390-cd99-8899d984f632",
        "colab": {
          "base_uri": "https://localhost:8080/"
        }
      },
      "source": [
        "# check distribution of the labels\n",
        "id_df.Labels.value_counts()"
      ],
      "execution_count": 65,
      "outputs": [
        {
          "output_type": "execute_result",
          "data": {
            "text/plain": [
              "None    384\n",
              "One       9\n",
              "Zero      7\n",
              "Name: Labels, dtype: int64"
            ]
          },
          "metadata": {
            "tags": []
          },
          "execution_count": 65
        }
      ]
    },
    {
      "cell_type": "code",
      "metadata": {
        "id": "QStjsRhlORwd"
      },
      "source": [
        "from sklearn.ensemble import RandomForestClassifier"
      ],
      "execution_count": 66,
      "outputs": []
    },
    {
      "cell_type": "code",
      "metadata": {
        "id": "9AIel-4dk9OH"
      },
      "source": [
        "df_train = df.copy()"
      ],
      "execution_count": 67,
      "outputs": []
    },
    {
      "cell_type": "code",
      "metadata": {
        "id": "zV_aj67qlXf4"
      },
      "source": [
        "df_train[\"Labels\"] = id_df.Labels\n",
        "df_train = df_train[df_train.Labels != 'None']"
      ],
      "execution_count": 68,
      "outputs": []
    },
    {
      "cell_type": "code",
      "metadata": {
        "id": "dnzq8W3EPHNZ"
      },
      "source": [
        "X_train = np.array([x.reshape(28*28) for x in df_train.image.values]) \n",
        "y_train = df_train.Labels.values"
      ],
      "execution_count": 69,
      "outputs": []
    },
    {
      "cell_type": "code",
      "metadata": {
        "id": "7LFehIYhPvgU",
        "outputId": "61994820-75cd-4b76-d314-a572e0a06e3d",
        "colab": {
          "base_uri": "https://localhost:8080/"
        }
      },
      "source": [
        "model = RandomForestClassifier()\n",
        "model.fit(X_train, y_train)"
      ],
      "execution_count": 70,
      "outputs": [
        {
          "output_type": "execute_result",
          "data": {
            "text/plain": [
              "RandomForestClassifier(bootstrap=True, ccp_alpha=0.0, class_weight=None,\n",
              "                       criterion='gini', max_depth=None, max_features='auto',\n",
              "                       max_leaf_nodes=None, max_samples=None,\n",
              "                       min_impurity_decrease=0.0, min_impurity_split=None,\n",
              "                       min_samples_leaf=1, min_samples_split=2,\n",
              "                       min_weight_fraction_leaf=0.0, n_estimators=100,\n",
              "                       n_jobs=None, oob_score=False, random_state=None,\n",
              "                       verbose=0, warm_start=False)"
            ]
          },
          "metadata": {
            "tags": []
          },
          "execution_count": 70
        }
      ]
    },
    {
      "cell_type": "code",
      "metadata": {
        "id": "NpYEFnvCP9YI"
      },
      "source": [
        "# make predictions using the trained model and save the results in the dataframe. \n",
        "predictions = model.predict(np.array([x.reshape(28*28) for x in df.image.values]))\n",
        "id_df['Predictions'] = predictions"
      ],
      "execution_count": 71,
      "outputs": []
    },
    {
      "cell_type": "markdown",
      "metadata": {
        "id": "lESuzE1CSbVa"
      },
      "source": [
        "### Step 8: Go to step 5 and create the visualization and retrain the models again. \n",
        "* Thre will be a new column in the visualization called Predictions. \n",
        "* Select this column and check how the predictions looks like. \n",
        "* Fix mistakes by relabeling the examples\n",
        "* Retrain the model using new fixed labels and visulize again. "
      ]
    },
    {
      "cell_type": "code",
      "metadata": {
        "id": "xyuIrliwSnZW"
      },
      "source": [
        ""
      ],
      "execution_count": null,
      "outputs": []
    }
  ]
}