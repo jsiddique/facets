{
  "nbformat": 4,
  "nbformat_minor": 0,
  "metadata": {
    "colab": {
      "name": "colab_facets_labeling_demo.ipynb",
      "provenance": [],
      "collapsed_sections": []
    },
    "kernelspec": {
      "name": "python3",
      "display_name": "Python 3"
    }
  },
  "cells": [
    {
      "cell_type": "markdown",
      "metadata": {
        "id": "jRWNKJW4KeoU"
      },
      "source": [
        "# This colab notebook contains a demo of how FacetsLabeling can be used to label and create a small ML dataset that can be used to train a simple model.  \n",
        "\n",
        "* Currently there are no open source data labeling tools that can work from a notebook.  \n",
        "* This labeling tool will help you visualize and improve the quality of your ML datasets\n",
        "* Directly visualize and find how your model is performing. \n",
        "* Correct mistakes in your labeled dataset and fix mislabeled examples. \n",
        "* Labeling helps you to make a balanced dataset. \n"
      ]
    },
    {
      "cell_type": "markdown",
      "metadata": {
        "id": "CpMT_QoqKy1k"
      },
      "source": [
        "### Step 1: Downlaod and import FacetsLabeling library"
      ]
    },
    {
      "cell_type": "code",
      "metadata": {
        "id": "uCmXy-YhsXCU"
      },
      "source": [
        "!git clone https://github.com/jsiddique/facets_labeling.git"
      ],
      "execution_count": null,
      "outputs": []
    },
    {
      "cell_type": "code",
      "metadata": {
        "id": "5wGHubfis93k"
      },
      "source": [
        "!git clone https://github.com/Geotab/facets-demo.git"
      ],
      "execution_count": null,
      "outputs": []
    },
    {
      "cell_type": "code",
      "metadata": {
        "id": "qDwS-yW8W5oh"
      },
      "source": [
        "!pip install -q tfds-nightly tensorflow matplotlib"
      ],
      "execution_count": null,
      "outputs": []
    },
    {
      "cell_type": "code",
      "metadata": {
        "id": "TnDNQrNptGdP"
      },
      "source": [
        "from os import sys\n",
        "sys.path.append('./facets_labeling/')"
      ],
      "execution_count": null,
      "outputs": []
    },
    {
      "cell_type": "code",
      "metadata": {
        "id": "QCUUBYKCseTG"
      },
      "source": [
        "import numpy as np\n",
        "import pandas as pd\n",
        "from PIL import Image\n",
        "from facets_labeling import colab_dive\n",
        "from sklearn import metrics\n",
        "import matplotlib.pyplot as plt\n",
        "from matplotlib.ticker import FormatStrFormatter\n",
        "from sklearn.ensemble import RandomForestClassifier\n",
        "from sklearn.model_selection import train_test_split\n",
        "plt.ioff()"
      ],
      "execution_count": null,
      "outputs": []
    },
    {
      "cell_type": "markdown",
      "metadata": {
        "id": "m0dkcf9DLPjE"
      },
      "source": [
        "### Step 2: Download dataset and load in dataframe."
      ]
    },
    {
      "cell_type": "code",
      "metadata": {
        "id": "4xYPozFSXDaB"
      },
      "source": [
        "import matplotlib.pyplot as plt\n",
        "import numpy as np\n",
        "import tensorflow as tf\n",
        "import tensorflow_datasets as tfds"
      ],
      "execution_count": null,
      "outputs": []
    },
    {
      "cell_type": "code",
      "metadata": {
        "id": "-YxszG9WYaiG"
      },
      "source": [
        "ds, info = tfds.load('mnist', split='train', with_info=True)\n",
        "df = tfds.as_dataframe(ds.take(10000), info)"
      ],
      "execution_count": null,
      "outputs": []
    },
    {
      "cell_type": "markdown",
      "metadata": {
        "id": "nEEqbFtcrma1"
      },
      "source": [
        "### Step 3: Only select one and zeros"
      ]
    },
    {
      "cell_type": "code",
      "metadata": {
        "id": "j1sqVu6vi9pY"
      },
      "source": [
        "num_examples = 400\n",
        "height = 20\n",
        "width = 20"
      ],
      "execution_count": null,
      "outputs": []
    },
    {
      "cell_type": "code",
      "metadata": {
        "id": "ASnqmm4TbSJ9"
      },
      "source": [
        "df = df[(df.label == 1) | (df.label == 0)]\n",
        "df = df.reset_index()\n",
        "df = df[:num_examples]"
      ],
      "execution_count": null,
      "outputs": []
    },
    {
      "cell_type": "code",
      "metadata": {
        "id": "cxxv1A4KZcpW"
      },
      "source": [
        "X_test = np.array([x.reshape(28, 28) for x in df.image.values])  "
      ],
      "execution_count": null,
      "outputs": []
    },
    {
      "cell_type": "code",
      "metadata": {
        "id": "6m89IPidbjXh"
      },
      "source": [
        "#y_test = np.array(df.label.values)\n",
        "df = df.drop(columns='label')"
      ],
      "execution_count": null,
      "outputs": []
    },
    {
      "cell_type": "markdown",
      "metadata": {
        "id": "r9g4ogJhLyfd"
      },
      "source": [
        "### Step 4: Stitch all the images in a sprite atlas\n",
        "To understand the concept of sprite atlas visit [this link](https://github.com/PAIR-code/facets/tree/master/facets_dive)."
      ]
    },
    {
      "cell_type": "code",
      "metadata": {
        "id": "Wm175VrKYe_c"
      },
      "source": [
        "import PIL.ImageOps \n",
        "def array_to_sprite_atlas(image_array, num_sprites_x, num_sprites_y):\n",
        "    \"Takes an array of images of shape (num_images, img_width, img_height) and splices them together to form a big ass mosaic (sprite atlas).\"\n",
        "    # Mnist arrays are in 0-1 range, PIL needs 0-255\n",
        "    image_array = image_array * 1\n",
        "    image_width, image_height = image_array.shape[1], image_array.shape[2]\n",
        "    atlas_width  = num_sprites_x * image_width\n",
        "    atlas_height = num_sprites_y * image_height\n",
        "    # We paste the samples to get indices arranged in the following way:\n",
        "    # | 0 | 1 | 2 | 3 |\n",
        "    # | 4 | 5 | 6 | 7 |\n",
        "    atlas  = Image.new(\"RGB\", (atlas_width, atlas_height), (0, 0, 0))\n",
        "    for i in range(num_sprites_y): \n",
        "        for j in range(num_sprites_x):\n",
        "            sample = image_array[num_sprites_x * i + j, :, :]\n",
        "            image = Image.fromarray(sample)\n",
        "            atlas.paste(image, (j*image_width, i*image_height))\n",
        "    return atlas\n",
        "atlas = array_to_sprite_atlas(X_test.reshape(X_test.shape[0], 28, 28), height, width)\n",
        "atlas = PIL.ImageOps.invert(atlas)\n",
        "atlas.save(\"atlas.jpg\")"
      ],
      "execution_count": null,
      "outputs": []
    },
    {
      "cell_type": "code",
      "metadata": {
        "id": "ETkMYhBfwsIx"
      },
      "source": [
        "# id_df only contains ids\n",
        "id_df = pd.DataFrame()\n",
        "id_list = [str(x) for x in range(num_examples)]\n",
        "id_df['Id'] = id_list"
      ],
      "execution_count": null,
      "outputs": []
    },
    {
      "cell_type": "markdown",
      "metadata": {
        "id": "oOrh7UxPOmPV"
      },
      "source": [
        "### Step 5: Create facets visulization"
      ]
    },
    {
      "cell_type": "code",
      "metadata": {
        "id": "DZ4KAM71u5nO"
      },
      "source": [
        "import base64\n",
        "labels = ['Zero', 'One']\n",
        "with open(\"atlas.jpg\", \"rb\") as image_file:\n",
        "    encoded_string = base64.b64encode(image_file.read())\n",
        "url_template = \"data:image/png;base64,{encoded_string}\"\n",
        "from facets_labeling import colab_dive \n",
        "fc = colab_dive.Facets()\n",
        "results = fc.create_classes(labels=labels)\n",
        "fc.define_atlas(id_df, sprite_width=28, sprite_height=28, atlas_url=url_template.format(encoded_string=encoded_string.decode(\"utf-8\")))\n",
        "fc.render_html('mnist.html')"
      ],
      "execution_count": null,
      "outputs": []
    },
    {
      "cell_type": "code",
      "metadata": {
        "id": "h1WxWF-5u8qX"
      },
      "source": [
        "f = open('mnist.html', 'r')\n",
        "t = f.read()\n",
        "f.close()\n",
        "from IPython.display  import HTML\n",
        "display(HTML(t))"
      ],
      "execution_count": null,
      "outputs": []
    },
    {
      "cell_type": "markdown",
      "metadata": {
        "id": "ooqANt1wp3jF"
      },
      "source": [
        "##### Instructions on how to label\n",
        "* Click reset to clear the cache. (Don't need to clear the cache if you want to keep labeling that's already done)\n",
        "* Click select class dropdown list to see the list of classes. Select the class you want to label.   \n",
        "* Use shift+click to label instance \n",
        "* Click select class dropdown list and label another class\n",
        "* <img src=\"https://raw.githubusercontent.com/jsiddique/facets_labeling/master/FacetsLabeling.gif\">"
      ]
    },
    {
      "cell_type": "markdown",
      "metadata": {
        "id": "xWZjlCifMhC_"
      },
      "source": [
        "### Step 6: Download labeled data from browser cache and store them in a dictionary"
      ]
    },
    {
      "cell_type": "code",
      "metadata": {
        "id": "ZMYScx6-MeRD"
      },
      "source": [
        "label_dict = {}"
      ],
      "execution_count": null,
      "outputs": []
    },
    {
      "cell_type": "code",
      "metadata": {
        "id": "5Us7OHH1JtFu"
      },
      "source": [
        "# Don't put any other code in this cell. It runs javascript code in background\n",
        "fc.create_labeled_variables(label_dict=label_dict)"
      ],
      "execution_count": null,
      "outputs": []
    },
    {
      "cell_type": "code",
      "metadata": {
        "id": "wt42o5A0Maxi"
      },
      "source": [
        "label_dict"
      ],
      "execution_count": null,
      "outputs": []
    },
    {
      "cell_type": "code",
      "metadata": {
        "id": "-GjbNRuaovOQ"
      },
      "source": [
        "# Inverse labelDict to eventDict\n",
        "eventDict = {}\n",
        "for key in label_dict.keys():\n",
        "  labels = label_dict[key]\n",
        "  eventIds = labels.split(',')\n",
        "  for event in eventIds:\n",
        "    eventDict[event] = key\n"
      ],
      "execution_count": null,
      "outputs": []
    },
    {
      "cell_type": "code",
      "metadata": {
        "id": "hkCDfJ-3mOFk"
      },
      "source": [
        "#eventDict"
      ],
      "execution_count": null,
      "outputs": []
    },
    {
      "cell_type": "code",
      "metadata": {
        "id": "iWOSpBHUOQYf"
      },
      "source": [
        "# Add all the labels as a column in a dataframe\n",
        "id_df['Labels'] = id_df.Id.apply(lambda x : eventDict[x] if x in eventDict else 'None')"
      ],
      "execution_count": null,
      "outputs": []
    },
    {
      "cell_type": "markdown",
      "metadata": {
        "id": "rJ3z01AhO-sA"
      },
      "source": [
        "### Step 7: Train a simple model using labels"
      ]
    },
    {
      "cell_type": "code",
      "metadata": {
        "id": "JuOkGKcemFn7"
      },
      "source": [
        "# check distribution of the labels\n",
        "id_df.Labels.value_counts()"
      ],
      "execution_count": null,
      "outputs": []
    },
    {
      "cell_type": "code",
      "metadata": {
        "id": "QStjsRhlORwd"
      },
      "source": [
        "from sklearn.ensemble import RandomForestClassifier"
      ],
      "execution_count": null,
      "outputs": []
    },
    {
      "cell_type": "code",
      "metadata": {
        "id": "9AIel-4dk9OH"
      },
      "source": [
        "df_train = df.copy()"
      ],
      "execution_count": null,
      "outputs": []
    },
    {
      "cell_type": "code",
      "metadata": {
        "id": "zV_aj67qlXf4"
      },
      "source": [
        "df_train[\"Labels\"] = id_df.Labels\n",
        "df_train = df_train[df_train.Labels != 'None']"
      ],
      "execution_count": null,
      "outputs": []
    },
    {
      "cell_type": "code",
      "metadata": {
        "id": "dnzq8W3EPHNZ"
      },
      "source": [
        "X_train = np.array([x.reshape(28*28) for x in df_train.image.values]) \n",
        "y_train = df_train.Labels.values"
      ],
      "execution_count": null,
      "outputs": []
    },
    {
      "cell_type": "code",
      "metadata": {
        "id": "7LFehIYhPvgU"
      },
      "source": [
        "model = RandomForestClassifier()\n",
        "model.fit(X_train, y_train)"
      ],
      "execution_count": null,
      "outputs": []
    },
    {
      "cell_type": "code",
      "metadata": {
        "id": "NpYEFnvCP9YI"
      },
      "source": [
        "# make predictions using the trained model and save the results in the dataframe. \n",
        "predictions = model.predict(np.array([x.reshape(28*28) for x in df.image.values]))\n",
        "id_df['Predictions'] = predictions"
      ],
      "execution_count": null,
      "outputs": []
    },
    {
      "cell_type": "markdown",
      "metadata": {
        "id": "lESuzE1CSbVa"
      },
      "source": [
        "### Step 8: Go to step 5 and create the visualization and retrain the models again. Visually validate how well the model performed.  \n",
        "* Thre will be a new column in the visualization called Predictions. \n",
        "* Select this column and check how the predictions looks like. (See figure below)\n",
        "* Fix mistakes by relabeling the examples\n",
        "* Retrain the model using new fixed labels and visulize again.\n",
        "* <img src = \"https://github.com/jsiddique/facets_labeling/blob/master/check_predictions.png?raw=1\"> "
      ]
    },
    {
      "cell_type": "code",
      "metadata": {
        "id": "xyuIrliwSnZW"
      },
      "source": [
        ""
      ],
      "execution_count": null,
      "outputs": []
    }
  ]
}