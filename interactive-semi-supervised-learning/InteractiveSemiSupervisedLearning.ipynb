{
 "cells": [
  {
   "cell_type": "markdown",
   "metadata": {},
   "source": [
    "# Interactive Semi Supervised Learning \n",
    "* This notebook demonstrates how to train a classfier with unlabeled data using supervised learning and factes visualizaiton tool.\n",
    "* Assumes mnist dataset is unlabelled. We throw out the labels and try to classify only using user's input. \n",
    "* Uses facets tool for visualization\n",
    "* Interactively stores user's labeled data into browser cache\n",
    "* Load data from browser's cache to jupyter notebook and trains classifier based on user's choice. \n",
    "* Allows user to interactively repeat and retrain. "
   ]
  },
  {
   "cell_type": "code",
   "execution_count": 1,
   "metadata": {},
   "outputs": [],
   "source": [
    "import sys\n",
    "sys.path.append(\"../facets\")"
   ]
  },
  {
   "cell_type": "code",
   "execution_count": 2,
   "metadata": {},
   "outputs": [],
   "source": [
    "from dive import Facets"
   ]
  },
  {
   "cell_type": "code",
   "execution_count": 3,
   "metadata": {},
   "outputs": [
    {
     "name": "stderr",
     "output_type": "stream",
     "text": [
      "/home/javedsiddique/virtualenvironment/jupyter/jupyter/local/lib/python2.7/site-packages/h5py/__init__.py:36: FutureWarning: Conversion of the second argument of issubdtype from `float` to `np.floating` is deprecated. In future, it will be treated as `np.float64 == np.dtype(float).type`.\n",
      "  from ._conv import register_converters as _register_converters\n"
     ]
    },
    {
     "name": "stdout",
     "output_type": "stream",
     "text": [
      "Extracting MNIST_data/train-images-idx3-ubyte.gz\n",
      "Extracting MNIST_data/train-labels-idx1-ubyte.gz\n",
      "Extracting MNIST_data/t10k-images-idx3-ubyte.gz\n",
      "Extracting MNIST_data/t10k-labels-idx1-ubyte.gz\n"
     ]
    }
   ],
   "source": [
    "from tensorflow.examples.tutorials.mnist import input_data\n",
    "import sklearn\n",
    "from PIL import Image\n",
    "import pandas as pd\n",
    "\n",
    "mnist = input_data.read_data_sets('MNIST_data', one_hot=True)\n",
    "#x, y = mnist.train.next_batch(60000)\n",
    "#x, y = sklearn.utils.shuffle(x, y, random_state=0)\n",
    "#x = x.reshape((x.shape[0], 28, 28, 1))\n",
    "x_test, y_test = mnist.test.next_batch(2500)\n",
    "x_test = x_test.reshape((x_test.shape[0], 28, 28, 1))\n",
    "\n",
    "def array_to_sprite_atlas(image_array, num_sprites_x, num_sprites_y):\n",
    "    \"Takes an array of images of shape (num_images, img_width, img_height) and splices them together to form a big ass mosaic (sprite atlas).\"\n",
    "    # Mnist arrays are in 0-1 range, PIL needs 0-255\n",
    "    image_array = image_array * 255\n",
    "    image_width, image_height = image_array.shape[1], image_array.shape[2]\n",
    "    atlas_width  = num_sprites_x * image_width\n",
    "    atlas_height = num_sprites_y * image_height\n",
    "    # We paste the samples to get indices arranged in the following way:\n",
    "    # | 0 | 1 | 2 | 3 |\n",
    "    # | 4 | 5 | 6 | 7 |\n",
    "    atlas  = Image.new(\"RGB\", (atlas_width, atlas_height), (0, 0, 0))\n",
    "    for i in range(num_sprites_y): \n",
    "        for j in range(num_sprites_x):\n",
    "            sample = image_array[num_sprites_x * i + j, :, :]\n",
    "            image = Image.fromarray(sample)\n",
    "            atlas.paste(image, (j*image_width, i*image_height))\n",
    "    return atlas\n",
    "atlas = array_to_sprite_atlas(x_test.reshape(x_test.shape[0], 28, 28), 50, 50)\n",
    "atlas.save(\"atlas.jpg\", \"JPEG\")\n",
    "\n",
    "df = pd.DataFrame()\n",
    "df['Id'] = [x for x in range(len(x_test))]\n",
    "jsonstr = df.to_json(orient='records')\n",
    "\n",
    "fc = Facets()\n",
    "fc.create_classes(labels=['label_'+str(x) for x in range(0,10)])\n",
    "fc.define_atlas(df, sprite_width=28, sprite_height=28, atlas_url='atlas.jpg')\n",
    "fc.render_html('testing.html')"
   ]
  },
  {
   "cell_type": "markdown",
   "metadata": {},
   "source": [
    "# [Click to Label](testing.html)"
   ]
  },
  {
   "cell_type": "code",
   "execution_count": 7,
   "metadata": {},
   "outputs": [],
   "source": [
    "fc.create_labeled_variables()"
   ]
  },
  {
   "cell_type": "code",
   "execution_count": null,
   "metadata": {},
   "outputs": [],
   "source": []
  },
  {
   "cell_type": "code",
   "execution_count": 25,
   "metadata": {},
   "outputs": [],
   "source": [
    "from IPython.core.magics.display import Javascript\n",
    "def create_labeled_variables():\n",
    "        command = '''\n",
    "\n",
    "        for (var i =0; i <  localStorage.length; i++){\n",
    "            var key = localStorage.key(i);\n",
    "            var existingItem = localStorage.getItem(key);\n",
    "            console.log(key);\n",
    "            var var_name = key;\n",
    "            if( key == null)\n",
    "                continue\n",
    "            var value_name = existingItem.replace(\\'\\\\n\\', \\' \\').replace(\\'\\\\r\\', \\' \\');\n",
    "            //value_name = 'f1sadf';\n",
    "            var command =  var_name += \" = \\\\\" \" +  value_name + \" \\\\\" ;\";\n",
    "            console.log(\"Executing Command: \" + command);\n",
    "            var kernel = IPython.notebook.kernel;\n",
    "            kernel.execute(command);\n",
    "        }\n",
    "        '''\n",
    "        return Javascript(command)"
   ]
  },
  {
   "cell_type": "code",
   "execution_count": 24,
   "metadata": {},
   "outputs": [
    {
     "ename": "SyntaxError",
     "evalue": "'return' outside function (<ipython-input-24-17c5989dbf46>, line 18)",
     "output_type": "error",
     "traceback": [
      "\u001b[0;36m  File \u001b[0;32m\"<ipython-input-24-17c5989dbf46>\"\u001b[0;36m, line \u001b[0;32m18\u001b[0m\n\u001b[0;31m    return Javascript(command)\u001b[0m\n\u001b[0;31mSyntaxError\u001b[0m\u001b[0;31m:\u001b[0m 'return' outside function\n"
     ]
    }
   ],
   "source": [
    "        command = '''\n",
    "\n",
    "        for (var i =0; i <  localStorage.length; i++){\n",
    "            var key = localStorage.key(i);\n",
    "            var existingItem = localStorage.getItem(key);\n",
    "            console.log(key);\n",
    "            var var_name = key;\n",
    "            if( key == null)\n",
    "                continue\n",
    "            var value_name = existingItem.replace(\\'\\\\n\\', \\' \\').replace(\\'\\\\r\\', \\' \\');\n",
    "            //value_name = 'f1sadf';\n",
    "            var command =  var_name += \" = \\\\\" \" +  value_name + \" \\\\\" ;\";\n",
    "            console.log(\"Executing Command: \" + command);\n",
    "            var kernel = IPython.notebook.kernel;\n",
    "            kernel.execute(command);\n",
    "        }\n",
    "        '''\n",
    "        return Javascript(command)"
   ]
  },
  {
   "cell_type": "code",
   "execution_count": 23,
   "metadata": {},
   "outputs": [],
   "source": [
    "Javascript?"
   ]
  },
  {
   "cell_type": "code",
   "execution_count": 22,
   "metadata": {},
   "outputs": [],
   "source": [
    "from ipykernel import "
   ]
  },
  {
   "cell_type": "code",
   "execution_count": 26,
   "metadata": {},
   "outputs": [
    {
     "data": {
      "application/javascript": [
       "\n",
       "\n",
       "        for (var i =0; i <  localStorage.length; i++){\n",
       "            var key = localStorage.key(i);\n",
       "            var existingItem = localStorage.getItem(key);\n",
       "            console.log(key);\n",
       "            var var_name = key;\n",
       "            if( key == null)\n",
       "                continue\n",
       "            var value_name = existingItem.replace('\\n', ' ').replace('\\r', ' ');\n",
       "            //value_name = 'f1sadf';\n",
       "            var command =  var_name += \" = \\\" \" +  value_name + \" \\\" ;\";\n",
       "            console.log(\"Executing Command: \" + command);\n",
       "            var kernel = IPython.notebook.kernel;\n",
       "            kernel.execute(command);\n",
       "        }\n",
       "        "
      ],
      "text/plain": [
       "<IPython.core.display.Javascript object>"
      ]
     },
     "execution_count": 26,
     "metadata": {},
     "output_type": "execute_result"
    }
   ],
   "source": [
    "create_labeled_variables()"
   ]
  },
  {
   "cell_type": "code",
   "execution_count": 8,
   "metadata": {},
   "outputs": [
    {
     "name": "stdout",
     "output_type": "stream",
     "text": [
      "\n",
      "\n",
      "for (var i =0; i <  localStorage.length; i++){\n",
      "    var key = localStorage.key(i);\n",
      "    var existingItem = localStorage.getItem(key);\n",
      "    console.log(key);\n",
      "    var var_name = key;\n",
      "    if( key == null)\n",
      "        continue\n",
      "    var value_name = existingItem.replace('\\n', ' ').replace('\\r', ' ');\n",
      "    //value_name = 'f1sadf';\n",
      "    var command =  var_name += \" = \\\" \" +  value_name + \" \\\" ;\";\n",
      "    console.log(\"Executing Command: \" + command);\n",
      "    var kernel = IPython.notebook.kernel;\n",
      "    kernel.execute(command);\n",
      "}\n",
      "\n",
      "\n",
      "\n"
     ]
    }
   ],
   "source": [
    "command = '''\n",
    "\n",
    "for (var i =0; i <  localStorage.length; i++){\n",
    "    var key = localStorage.key(i);\n",
    "    var existingItem = localStorage.getItem(key);\n",
    "    console.log(key);\n",
    "    var var_name = key;\n",
    "    if( key == null)\n",
    "        continue\n",
    "    var value_name = existingItem.replace(\\'\\\\n\\', \\' \\').replace(\\'\\\\r\\', \\' \\');\n",
    "    //value_name = 'f1sadf';\n",
    "    var command =  var_name += \" = \\\\\" \" +  value_name + \" \\\\\" ;\";\n",
    "    console.log(\"Executing Command: \" + command);\n",
    "    var kernel = IPython.notebook.kernel;\n",
    "    kernel.execute(command);\n",
    "}\n",
    "\n",
    "\n",
    "'''\n",
    "print command"
   ]
  },
  {
   "cell_type": "code",
   "execution_count": null,
   "metadata": {},
   "outputs": [],
   "source": []
  },
  {
   "cell_type": "code",
   "execution_count": null,
   "metadata": {},
   "outputs": [],
   "source": [
    "label_0"
   ]
  },
  {
   "cell_type": "code",
   "execution_count": null,
   "metadata": {},
   "outputs": [],
   "source": [
    "    var key = localStorage.key(i);\n",
    "    var existingItem = localStorage.getItem(key);\n",
    "    console.log(key);\n",
    "    var var_name = key;\n",
    "    if( key == null)\n",
    "        continue\n",
    "    var value_name = existingItem.replace('\\n', ' ').replace('\\r', ' ');\n",
    "    //value_name = 'f1sadf';\n",
    "    var command =  var_name += \" = \\\" \" +  value_name + \" \\\" ;\";\n",
    "    console.log(\"Executing Command: \" + command);\n",
    "    var kernel = IPython.notebook.kernel;\n",
    "    kernel.execute(command);"
   ]
  },
  {
   "cell_type": "code",
   "execution_count": null,
   "metadata": {},
   "outputs": [],
   "source": [
    "print(x.shape)\n",
    "x = x.reshape((x.shape[0], 28, 28, 1))\n",
    "print(x.shape)"
   ]
  },
  {
   "cell_type": "code",
   "execution_count": null,
   "metadata": {},
   "outputs": [],
   "source": [
    "fig, axes = plt.subplots(1, 4)\n",
    "for i in range(4):\n",
    "    img_index = int(random.random()*60000)\n",
    "    axes[i].imshow(x[img_index, :, :, 0])"
   ]
  },
  {
   "cell_type": "code",
   "execution_count": null,
   "metadata": {},
   "outputs": [],
   "source": [
    "x_test, y_test = mnist.test.next_batch(10000)\n",
    "x_test = x_test.reshape((x_test.shape[0], 28, 28, 1))"
   ]
  },
  {
   "cell_type": "code",
   "execution_count": null,
   "metadata": {},
   "outputs": [],
   "source": [
    "def array_to_sprite_atlas(image_array, num_sprites_x, num_sprites_y):\n",
    "    \"Takes an array of images of shape (num_images, img_width, img_height) and splices them together to form a big ass mosaic (sprite atlas).\"\n",
    "    # Mnist arrays are in 0-1 range, PIL needs 0-255\n",
    "    image_array = image_array * 255\n",
    "    image_width, image_height = image_array.shape[1], image_array.shape[2]\n",
    "    atlas_width  = num_sprites_x * image_width\n",
    "    atlas_height = num_sprites_y * image_height\n",
    "    # We paste the samples to get indices arranged in the following way:\n",
    "    # | 0 | 1 | 2 | 3 |\n",
    "    # | 4 | 5 | 6 | 7 |\n",
    "    atlas  = Image.new(\"RGB\", (atlas_width, atlas_height), (0, 0, 0))\n",
    "    for i in range(num_sprites_y): \n",
    "        for j in range(num_sprites_x):\n",
    "            sample = image_array[num_sprites_x * i + j, :, :]\n",
    "            image = Image.fromarray(sample)\n",
    "            atlas.paste(image, (j*image_width, i*image_height))\n",
    "    return atlas"
   ]
  },
  {
   "cell_type": "code",
   "execution_count": null,
   "metadata": {},
   "outputs": [],
   "source": [
    "atlas = array_to_sprite_atlas(x_test.reshape(x_test.shape[0], 28, 28), 100, 100)\n",
    "atlas.save(\"atlas.jpg\", \"JPEG\")"
   ]
  },
  {
   "cell_type": "code",
   "execution_count": null,
   "metadata": {},
   "outputs": [],
   "source": [
    "# zeros = ''\n",
    "# ones = ''\n",
    "# twos= ''\n",
    "# threes=''\n",
    "# fours=''\n",
    "# fives=''\n",
    "# sixes=''\n",
    "# sevens=''\n",
    "# eights=''\n",
    "# nines=''"
   ]
  },
  {
   "cell_type": "markdown",
   "metadata": {},
   "source": [
    "## Load Unlabeled Data into Facets"
   ]
  },
  {
   "cell_type": "code",
   "execution_count": null,
   "metadata": {},
   "outputs": [],
   "source": [
    "df = pd.DataFrame()\n",
    "df['Id'] = [x for x in range(len(x_test))]\n"
   ]
  },
  {
   "cell_type": "code",
   "execution_count": null,
   "metadata": {},
   "outputs": [],
   "source": [
    "import sys\n",
    "sys.path.append(\"../facets/\")"
   ]
  },
  {
   "cell_type": "code",
   "execution_count": null,
   "metadata": {},
   "outputs": [],
   "source": [
    "import dive"
   ]
  },
  {
   "cell_type": "code",
   "execution_count": null,
   "metadata": {},
   "outputs": [],
   "source": [
    "from dive import Facets"
   ]
  },
  {
   "cell_type": "code",
   "execution_count": null,
   "metadata": {},
   "outputs": [],
   "source": [
    "fc = Facets()\n",
    "fc.create_classes(labels=[str(x) for x in range(0,10)])\n",
    "fc.define_atlas(df, sprite_width=28, sprite_height=28, atlas_url='atlas.jpg')\n",
    "fc.render_html('testing.html')"
   ]
  },
  {
   "cell_type": "code",
   "execution_count": null,
   "metadata": {},
   "outputs": [],
   "source": [
    "jsonstr = df.to_json(orient='records')"
   ]
  },
  {
   "cell_type": "code",
   "execution_count": null,
   "metadata": {},
   "outputs": [],
   "source": [
    "# Display the Dive visualization for this data\n",
    "jsonstr = df.to_json(orient='records')\n",
    "from IPython.core.display import display, HTML\n",
    "\n",
    "HTML_TEMPLATE = '''\n",
    "        <head>\n",
    "        <link rel=\"import\" href=\"./facets-jupyter.html\"></link>\n",
    "        </head>        \n",
    "            <select id=\"ClassValue\">\n",
    "                  <option value=\"newZeros\">newZeros</option>\n",
    "                  <option value=\"newOnes\">newOnes</option>\n",
    "                  <option value=\"newTwos\">newTwos</option>\n",
    "                  <option value=\"newThrees\">newThrees</option>\n",
    "                  <option value=\"newFours\">newFours</option>\n",
    "                  <option value=\"newFives\">newFives</option>\n",
    "                  <option value=\"newSixes\">newSixes</option>\n",
    "                  <option value=\"newSevens\">newSevens</option>\n",
    "                  <option value=\"newEights\">newEights</option>\n",
    "                  <option value=\"newNines\">newNines</option>\n",
    "        \n",
    "            </select>\n",
    "        \n",
    "        <input type=\"button\" onclick=\"localStorage.clear()\" value=\"Erase\">\n",
    "        \n",
    "        <p id=\"newZeros\">0</p>\n",
    "        <p id=\"newOnes\">0</p>\n",
    "        <p id=\"newTwos\">0</p>\n",
    "        <p id=\"newThrees\">0</p>\n",
    "        <p id=\"newFours\">0</p>\n",
    "        <p id=\"newFives\">0</p>\n",
    "        <p id=\"newSixes\">0</p>\n",
    "        <p id=\"newSevens\">0</p>\n",
    "        <p id=\"newEights\">0</p>\n",
    "        <p id=\"newOnes\">0</p>\n",
    "        <p id=\"newNines\">0</p>\n",
    "        \n",
    "        \n",
    "        \n",
    "        <facets-dive id=\"elem\" height=\"800\" sprite-image-width=\"28\" sprite-image-height=\"28\" atlas-url=\"atlas.jpg\"></facets-dive>\n",
    "        <script>\n",
    "              var data = JSON.parse('{jsonstr}');       \n",
    "'''\n",
    "html = HTML_TEMPLATE.format(jsonstr=jsonstr)\n",
    "html += '''\n",
    "\n",
    "             document.querySelector(\"#elem\").data = data;\n",
    "             document.getElementById(\"elem\").addEventListener(\"click\", function(e){ \n",
    "\n",
    "    if (e.ctrlKey)\n",
    "    {\n",
    "        var e = document.getElementById(\"ClassValue\");\n",
    "        var keyVal = e.options[e.selectedIndex].value;\n",
    "\n",
    "\n",
    "        //var html = document.getElementById(\"infoCard\").querySelector(\"dl\").innerHTML;\n",
    "        var theAnchorText = document.getElementById(\"infoCard\").getElementsByTagName(\"dd\")[0].innerHTML;\n",
    "        console.log(theAnchorText);\n",
    "        var existingItem = localStorage.getItem(keyVal);\n",
    "        if (!existingItem)\n",
    "            existingItem = theAnchorText; \n",
    "        else\n",
    "            existingItem = (existingItem || \"\")+ \",\" + theAnchorText;\n",
    "        localStorage.setItem(keyVal, existingItem);\n",
    "        //document.getElementById(keyVal).innerHTML = existingItem;  \n",
    "        var element = document.getElementById(keyVal);\n",
    "        element.innerHTML = keyVal + \" : \" + existingItem.split(\",\").length;\n",
    "    }      \n",
    "});\n",
    "</script>\n",
    "'''"
   ]
  },
  {
   "cell_type": "markdown",
   "metadata": {},
   "source": [
    "# View it at the bottow cell"
   ]
  },
  {
   "cell_type": "code",
   "execution_count": null,
   "metadata": {},
   "outputs": [],
   "source": [
    "#display(HTML(html))"
   ]
  },
  {
   "cell_type": "code",
   "execution_count": null,
   "metadata": {},
   "outputs": [],
   "source": [
    "# Tag 5 good examples of of each digits"
   ]
  },
  {
   "cell_type": "code",
   "execution_count": null,
   "metadata": {},
   "outputs": [],
   "source": [
    "# f = file(\"test-mnist.html\", \"w\")\n",
    "# f.write(html)\n",
    "# f.close()"
   ]
  },
  {
   "cell_type": "markdown",
   "metadata": {},
   "source": [
    "# Chose 10 good examples of each digit"
   ]
  },
  {
   "cell_type": "code",
   "execution_count": null,
   "metadata": {},
   "outputs": [],
   "source": [
    "newZeros = ''\n",
    "newOnes = ''\n",
    "newTwos = ''\n",
    "newThrees=''\n",
    "newFours = ''\n",
    "newFives=''\n",
    "newSixes=''\n",
    "newSevens=''\n",
    "newEights=''\n",
    "newNines =''"
   ]
  },
  {
   "cell_type": "code",
   "execution_count": null,
   "metadata": {},
   "outputs": [],
   "source": [
    "%%javascript\n",
    "for (var i =0; i <  localStorage.length; i++){\n",
    "    console.log(i);\n",
    "    var key = localStorage.key(i);\n",
    "    var existingItem = localStorage.getItem(key);\n",
    "    console.log(key);\n",
    "    var var_name = key;\n",
    "    if( key == null)\n",
    "        continue\n",
    "    var value_name = existingItem.replace('\\n', ' ').replace('\\r', ' ');\n",
    "    //value_name = 'f1sadf';\n",
    "    var command =  var_name += \" = \\\" \" +  value_name + \" \\\" ;\";\n",
    "    console.log(\"Executing Command: \" + command);\n",
    "    var kernel = IPython.notebook.kernel;\n",
    "    kernel.execute(command);\n",
    "}"
   ]
  },
  {
   "cell_type": "code",
   "execution_count": null,
   "metadata": {},
   "outputs": [],
   "source": [
    "#newZeros = newZeros.replace('---', '\\n')\n",
    "print newZeros"
   ]
  },
  {
   "cell_type": "code",
   "execution_count": null,
   "metadata": {},
   "outputs": [],
   "source": [
    "#newOnes = newOnes.replace('---', '\\n')\n",
    "print newOnes"
   ]
  },
  {
   "cell_type": "code",
   "execution_count": null,
   "metadata": {},
   "outputs": [],
   "source": [
    "zeros += newZeros\n",
    "ones += newOnes\n",
    "twos += newTwos\n",
    "threes += newThrees\n",
    "fours += newFours\n",
    "fives += newFives\n",
    "sixes += newSixes\n",
    "sevens += newSevens\n",
    "eights += newEights\n",
    "nines += newNines"
   ]
  },
  {
   "cell_type": "code",
   "execution_count": null,
   "metadata": {},
   "outputs": [],
   "source": [
    "import ast\n",
    "def convertDict(yy, v, d):\n",
    "    #jsonStr = yy.replace(\"</dt><dd>\", '\\':\\'').replace('</dd><dt>', '\\',\\'').replace('<dt>', '{\\'').replace('</dd>', '\\'}')   \n",
    "    #print yy.split(',')\n",
    "    #d = {}\n",
    "    for x in yy.split(','):\n",
    "        if x == ' ' or x == '':\n",
    "            continue\n",
    "        d[x] = v\n",
    "    print d\n",
    "    return d\n"
   ]
  },
  {
   "cell_type": "code",
   "execution_count": null,
   "metadata": {},
   "outputs": [],
   "source": [
    "d = {}"
   ]
  },
  {
   "cell_type": "code",
   "execution_count": null,
   "metadata": {},
   "outputs": [],
   "source": [
    "df['Omit'] = [-1] * len(df)"
   ]
  },
  {
   "cell_type": "code",
   "execution_count": null,
   "metadata": {},
   "outputs": [],
   "source": [
    "df_tmp = df[df.Omit != -1]\n",
    "tmp = df_tmp.apply(lambda x : [x['Id'] , x['Omit']], axis = 1)\n",
    "for x in tmp.values:\n",
    "    d[x[0]] = x[1]\n",
    "d"
   ]
  },
  {
   "cell_type": "code",
   "execution_count": null,
   "metadata": {},
   "outputs": [],
   "source": [
    "d = convertDict(zeros, 0, d)\n",
    "d = convertDict(ones, 1, d)\n",
    "d = convertDict(twos, 2, d)\n",
    "d = convertDict(threes, 3, d)\n",
    "d = convertDict(fours, 4, d)\n",
    "d = convertDict(fives, 5, d)\n",
    "d = convertDict(sixes, 6, d)\n",
    "d = convertDict(sevens, 7, d)\n",
    "d = convertDict(eights, 8, d)\n",
    "d = convertDict(nines, 9, d)"
   ]
  },
  {
   "cell_type": "code",
   "execution_count": null,
   "metadata": {},
   "outputs": [],
   "source": [
    "df['Omit'] = df.Id.apply(lambda x: d[str(x)]  if str(x) in d else -1)"
   ]
  },
  {
   "cell_type": "code",
   "execution_count": null,
   "metadata": {},
   "outputs": [],
   "source": [
    "df.head()"
   ]
  },
  {
   "cell_type": "code",
   "execution_count": null,
   "metadata": {},
   "outputs": [],
   "source": [
    "df_train = df.copy()"
   ]
  },
  {
   "cell_type": "code",
   "execution_count": null,
   "metadata": {},
   "outputs": [],
   "source": [
    "len(df_train)"
   ]
  },
  {
   "cell_type": "code",
   "execution_count": null,
   "metadata": {},
   "outputs": [],
   "source": [
    "one_dim = x_test.reshape(x_test.shape[0], 28*28)"
   ]
  },
  {
   "cell_type": "code",
   "execution_count": null,
   "metadata": {},
   "outputs": [],
   "source": [
    "df_train['Features'] = [one_dim[i].tolist() for i in range(x_test.shape[0])]"
   ]
  },
  {
   "cell_type": "code",
   "execution_count": null,
   "metadata": {},
   "outputs": [],
   "source": [
    "df_train.head()"
   ]
  },
  {
   "cell_type": "code",
   "execution_count": null,
   "metadata": {},
   "outputs": [],
   "source": [
    "df_tmp = df_train[df_train.Omit != -1]"
   ]
  },
  {
   "cell_type": "code",
   "execution_count": null,
   "metadata": {},
   "outputs": [],
   "source": [
    "df_tmp.Omit.value_counts()"
   ]
  },
  {
   "cell_type": "code",
   "execution_count": null,
   "metadata": {},
   "outputs": [],
   "source": [
    "X = df_tmp.Features.values.tolist()\n",
    "Y = df_tmp.Omit.apply(lambda x: int(x)).values"
   ]
  },
  {
   "cell_type": "code",
   "execution_count": null,
   "metadata": {},
   "outputs": [],
   "source": [
    "from sklearn.ensemble import RandomForestClassifier\n",
    "clf = RandomForestClassifier(n_estimators=50)\n",
    "clf = clf.fit(X, Y)"
   ]
  },
  {
   "cell_type": "code",
   "execution_count": null,
   "metadata": {},
   "outputs": [],
   "source": [
    "p_arr = clf.predict_proba(df_train.Features.values.tolist())"
   ]
  },
  {
   "cell_type": "code",
   "execution_count": null,
   "metadata": {},
   "outputs": [],
   "source": [
    "_labels = clf.predict(df_train.Features.values.tolist())"
   ]
  },
  {
   "cell_type": "code",
   "execution_count": null,
   "metadata": {},
   "outputs": [],
   "source": [
    "zero_prob = [x[0] for x in p_arr]\n",
    "one_prob = [x[1] for x in p_arr]\n",
    "two_prob = [x[2] for x in p_arr]\n",
    "three_prob = [x[3] for x in p_arr]\n",
    "four_prob = [x[4] for x in p_arr]\n",
    "five_prob = [x[5] for x in p_arr]\n",
    "six_prob = [x[6] for x in p_arr]\n",
    "seven_prob = [x[7] for x in p_arr]\n",
    "eight_prob = [x[8] for x in p_arr]\n",
    "nine_prob = [x[9] for x in p_arr]"
   ]
  },
  {
   "cell_type": "code",
   "execution_count": null,
   "metadata": {},
   "outputs": [],
   "source": [
    "df = pd.DataFrame()\n",
    "df['Id'] = [x for x in range(len(x_test))]\n",
    "df['Labels'] = _labels\n",
    "df['ProbOne'] = one_prob\n",
    "df['ProbZeros'] = zero_prob\n",
    "df['ProbTwos'] = two_prob\n",
    "df['ProbThrees'] = three_prob\n",
    "df['ProbFours'] = four_prob\n",
    "df['ProbFives'] = five_prob\n",
    "df['ProbSixs'] = six_prob\n",
    "df['ProbSevens'] = seven_prob\n",
    "df['ProbEights'] = eight_prob\n",
    "df['ProbNines'] = nine_prob\n",
    "df['IsTraining'] = df_train.Omit"
   ]
  },
  {
   "cell_type": "code",
   "execution_count": null,
   "metadata": {},
   "outputs": [],
   "source": [
    "jsonstr = df.to_json(orient='records')"
   ]
  },
  {
   "cell_type": "code",
   "execution_count": null,
   "metadata": {},
   "outputs": [],
   "source": [
    "def get_options_list(classname_list):\n",
    "    tmp_str = \"\"\n",
    "    for x in [\"<option value=\\\"\" + x + \"\\\">\" + x + \"</option>\" for x in classname_list]:\n",
    "        tmp_str += x + \"\\n\"\n",
    "    return tmp_str"
   ]
  },
  {
   "cell_type": "code",
   "execution_count": null,
   "metadata": {},
   "outputs": [],
   "source": [
    "def get_table_list(classname_list):\n",
    "    tmp_str = \"\"\n",
    "    for x in [\"<th><b id=\\\"\" + x  + \"\\\">\" + x + \": 0</b></th>\" for x in classname_list]:\n",
    "        tmp_str += x + \"\\n\"\n",
    "    return tmp_str"
   ]
  },
  {
   "cell_type": "code",
   "execution_count": null,
   "metadata": {},
   "outputs": [],
   "source": [
    "classname_list = ['newZeros', 'newOnes', 'newTwos','newThrees', 'newFours', 'newFives', 'newSixes', 'newSevens', 'newEights', 'newNines']"
   ]
  },
  {
   "cell_type": "code",
   "execution_count": null,
   "metadata": {},
   "outputs": [],
   "source": [
    "def get_html(classname_list):\n",
    "    options_list = get_options_list(classname_list=classname_list)\n",
    "    initial_table_list = get_table_list(classname_list=classname_list)\n",
    "    \n",
    "    jsonstr = df.to_json(orient='records')\n",
    "    from IPython.core.display import display, HTML\n",
    "\n",
    "    html = ''\n",
    "    HTML_TEMPLATE = '''\n",
    "            <head>\n",
    "            <link rel=\"import\" href=\"./facets-jupyter.html\"></link>\n",
    "            </head>                    \n",
    "                <table style=\"width:100%\">\n",
    "                  <tr>\n",
    "                    <th style=\"width:15%\"></th>\n",
    "                    <th style=\"width:10%\"></th>\n",
    "                    <th style=\"width:75%\"><h1 id=\"msg_1\" style=\"color:red\">Selecting ----</h1></th>\n",
    "                  </tr>\n",
    "                  <tr>\n",
    "                    <th>\n",
    "                        Select Class : \n",
    "                        <select id=\"ClassValue\">\n",
    "                              {optionStr}\n",
    "                        </select>\n",
    "                    </th>\n",
    "                    <th>\n",
    "                         <input type=\"button\" onclick=\"ClearEverything()\" value=\"Erase\">\n",
    "                    </th>\n",
    "                    <th></th>\n",
    "                  </tr>\n",
    "                </table>            \n",
    "            <p></p>\n",
    "    '''\n",
    "    html += HTML_TEMPLATE.format(optionStr = options_list)\n",
    "    \n",
    "    HTML_TEMPLATE = '''\n",
    "            <table style=\"width:100%\">\n",
    "              <tr> {initial_table_list} </tr>\n",
    "            </table>\n",
    "    '''\n",
    "    html += HTML_TEMPLATE.format(initial_table_list=initial_table_list)\n",
    "    \n",
    "    HTML_TEMPLATE = '''\n",
    "        \n",
    "            <facets-dive id=\"elem\" height=\"800\" sprite-image-width=\"28\" sprite-image-height=\"28\" atlas-url=\"atlas.jpg\"></facets-dive>\n",
    "            <script>\n",
    "                  var data = JSON.parse('{jsonstr}');       \n",
    "    '''\n",
    "    html += HTML_TEMPLATE.format(jsonstr=jsonstr)\n",
    "    html += '''\n",
    "\n",
    "                 document.querySelector(\"#elem\").data = data;\n",
    "\n",
    "                 document.getElementById(\"ClassValue\").addEventListener(\"click\", function(e){ \n",
    "                      var e = document.getElementById(\"ClassValue\");\n",
    "                      var keyVal = e.options[e.selectedIndex].value;\n",
    "                        console.log(\"ERere\");\n",
    "                      var element = document.getElementById(\"msg_1\");\n",
    "                        element.innerHTML = \"Selecting \" + keyVal;\n",
    "\n",
    "                 });\n",
    "\n",
    "                 document.getElementById(\"elem\").addEventListener(\"click\", function(e){ \n",
    "\n",
    "        if (e.ctrlKey)\n",
    "        {\n",
    "            var e = document.getElementById(\"ClassValue\");\n",
    "            var keyVal = e.options[e.selectedIndex].value;\n",
    "\n",
    "\n",
    "            //var html = document.getElementById(\"infoCard\").querySelector(\"dl\").innerHTML;\n",
    "            var theAnchorText = document.getElementById(\"infoCard\").getElementsByTagName(\"dd\")[0].innerHTML;\n",
    "            console.log(theAnchorText);\n",
    "            var existingItem = localStorage.getItem(keyVal);\n",
    "            if (!existingItem)\n",
    "                existingItem = theAnchorText; \n",
    "            else\n",
    "                existingItem = (existingItem || \"\")+ \",\" + theAnchorText;\n",
    "            localStorage.setItem(keyVal, existingItem);\n",
    "            //document.getElementById(keyVal).innerHTML = existingItem;  \n",
    "            var element = document.getElementById(keyVal);\n",
    "            element.innerHTML = keyVal + \" : \" + existingItem.split(\",\").length;\n",
    "            element.style.color = \"red\";\n",
    "        }      \n",
    "    });\n",
    "\n",
    "    function ClearEverything() {\n",
    "\n",
    "      for(var i = 0; i < localStorage.length; i++)\n",
    "      {\n",
    "          var keyVal = localStorage.key(i);\n",
    "          var element = document.getElementById(keyVal);\n",
    "          element.innerHTML = keyVal + \" : 0\" ;\n",
    "          console.log(localStorage.key(i));\n",
    "          element.style.color = \"black\";\n",
    "      }\n",
    "      localStorage.clear();\n",
    "    }\n",
    "    </script>\n",
    "    '''\n",
    "    return html\n",
    "    "
   ]
  },
  {
   "cell_type": "code",
   "execution_count": null,
   "metadata": {},
   "outputs": [],
   "source": [
    "html = get_html(classname_list)"
   ]
  },
  {
   "cell_type": "markdown",
   "metadata": {},
   "source": [
    "# Display And Tagging Section"
   ]
  },
  {
   "cell_type": "code",
   "execution_count": null,
   "metadata": {},
   "outputs": [],
   "source": [
    "from IPython.display import clear_output\n",
    "clear_output()"
   ]
  },
  {
   "cell_type": "code",
   "execution_count": null,
   "metadata": {},
   "outputs": [],
   "source": [
    "display(HTML(html))"
   ]
  },
  {
   "cell_type": "code",
   "execution_count": null,
   "metadata": {},
   "outputs": [],
   "source": [
    "f = file(\"test-mnist.html\", \"w\")\n",
    "f.write(html)\n",
    "f.close()"
   ]
  },
  {
   "cell_type": "code",
   "execution_count": null,
   "metadata": {},
   "outputs": [],
   "source": []
  }
 ],
 "metadata": {
  "kernelspec": {
   "display_name": "Python 2",
   "language": "python",
   "name": "python2"
  },
  "language_info": {
   "codemirror_mode": {
    "name": "ipython",
    "version": 2
   },
   "file_extension": ".py",
   "mimetype": "text/x-python",
   "name": "python",
   "nbconvert_exporter": "python",
   "pygments_lexer": "ipython2",
   "version": "2.7.12"
  }
 },
 "nbformat": 4,
 "nbformat_minor": 2
}
