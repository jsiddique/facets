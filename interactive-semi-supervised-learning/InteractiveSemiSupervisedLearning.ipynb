{
 "cells": [
  {
   "cell_type": "markdown",
   "metadata": {},
   "source": [
    "# Interactive Semi Supervised Learning \n",
    "* This notebook demonstrates how to train a classfier from unlabeled data using semi supervised learning and factes visualizaiton tool.\n",
    "* Assumes mnist dataset is unlabelled. We throw out the labels and try to classify only using user's input. \n",
    "* Uses facets tool for visualization\n",
    "* User tags and labels data by clicking on the facets tool\n",
    "* We modified facets to interactively stores labeled data into browser cache\n",
    "* Load data from browser's cache to jupyter notebook and trains classifier based on user's choice. \n",
    "* Allows user to interactively repeat and retrain. \n",
    "* After couple of iteration the model improves significantly"
   ]
  },
  {
   "cell_type": "markdown",
   "metadata": {},
   "source": [
    "# Step 1: Initialize and create initial visualization (do not need to repeat)\n",
    "* Import facets library\n",
    "* Get mnist data\n",
    "* Visualize mnist data on facets"
   ]
  },
  {
   "cell_type": "code",
   "execution_count": 2,
   "metadata": {},
   "outputs": [],
   "source": [
    "import sys\n",
    "sys.path.append(\"../facets\")"
   ]
  },
  {
   "cell_type": "code",
   "execution_count": 3,
   "metadata": {},
   "outputs": [],
   "source": [
    "from dive import Facets"
   ]
  },
  {
   "cell_type": "code",
   "execution_count": 4,
   "metadata": {},
   "outputs": [
    {
     "name": "stderr",
     "output_type": "stream",
     "text": [
      "/home/javedsiddique/virtualenvironment/jupyter/jupyter/local/lib/python2.7/site-packages/h5py/__init__.py:36: FutureWarning: Conversion of the second argument of issubdtype from `float` to `np.floating` is deprecated. In future, it will be treated as `np.float64 == np.dtype(float).type`.\n",
      "  from ._conv import register_converters as _register_converters\n"
     ]
    },
    {
     "name": "stdout",
     "output_type": "stream",
     "text": [
      "Extracting MNIST_data/train-images-idx3-ubyte.gz\n",
      "Extracting MNIST_data/train-labels-idx1-ubyte.gz\n",
      "Extracting MNIST_data/t10k-images-idx3-ubyte.gz\n",
      "Extracting MNIST_data/t10k-labels-idx1-ubyte.gz\n"
     ]
    }
   ],
   "source": [
    "from tensorflow.examples.tutorials.mnist import input_data\n",
    "import sklearn\n",
    "from PIL import Image\n",
    "import pandas as pd\n",
    "\n",
    "mnist = input_data.read_data_sets('MNIST_data', one_hot=True)\n",
    "#x, y = mnist.train.next_batch(60000)\n",
    "#x, y = sklearn.utils.shuffle(x, y, random_state=0)\n",
    "#x = x.reshape((x.shape[0], 28, 28, 1))\n",
    "x_test, y_test = mnist.test.next_batch(2500)\n",
    "x_test = x_test.reshape((x_test.shape[0], 28, 28, 1))\n",
    "\n",
    "def array_to_sprite_atlas(image_array, num_sprites_x, num_sprites_y):\n",
    "    \"Takes an array of images of shape (num_images, img_width, img_height) and splices them together to form a big ass mosaic (sprite atlas).\"\n",
    "    # Mnist arrays are in 0-1 range, PIL needs 0-255\n",
    "    image_array = image_array * 255\n",
    "    image_width, image_height = image_array.shape[1], image_array.shape[2]\n",
    "    atlas_width  = num_sprites_x * image_width\n",
    "    atlas_height = num_sprites_y * image_height\n",
    "    # We paste the samples to get indices arranged in the following way:\n",
    "    # | 0 | 1 | 2 | 3 |\n",
    "    # | 4 | 5 | 6 | 7 |\n",
    "    atlas  = Image.new(\"RGB\", (atlas_width, atlas_height), (0, 0, 0))\n",
    "    for i in range(num_sprites_y): \n",
    "        for j in range(num_sprites_x):\n",
    "            sample = image_array[num_sprites_x * i + j, :, :]\n",
    "            image = Image.fromarray(sample)\n",
    "            atlas.paste(image, (j*image_width, i*image_height))\n",
    "    return atlas\n",
    "atlas = array_to_sprite_atlas(x_test.reshape(x_test.shape[0], 28, 28), 50, 50)\n",
    "atlas.save(\"atlas.jpg\", \"JPEG\")\n",
    "\n",
    "df = pd.DataFrame()\n",
    "df['Id'] = [x for x in range(len(x_test))]\n",
    "jsonstr = df.to_json(orient='records')\n",
    "\n",
    "fc = Facets()\n",
    "fc.create_classes(labels=['label_' + str(x) for x in range(0,10)])\n",
    "fc.define_atlas(df, sprite_width=28, sprite_height=28, atlas_url='atlas.jpg')\n",
    "fc.render_html('testing.html')"
   ]
  },
  {
   "cell_type": "markdown",
   "metadata": {},
   "source": [
    "# Initial Labels\n",
    "## [Click to Label](testing.html)\n",
    "* Select group you want to label <img src=\"screenshots/pick_group.png\">\n",
    "\n",
    "\n",
    "* Have 2-3 good examples for each group by clicking on the digits <img src=\"screenshots/click_examples.png\">\n",
    "\n",
    "\n",
    "\n",
    "* Must have at least one good example for each digit for this notebook to work"
   ]
  },
  {
   "cell_type": "markdown",
   "metadata": {},
   "source": [
    "# Step 2: Initialize Dictionary  (do not need to repeat)"
   ]
  },
  {
   "cell_type": "code",
   "execution_count": 31,
   "metadata": {},
   "outputs": [],
   "source": [
    "d = {}\n",
    "for x in range(0,10):\n",
    "    d['label_'+str(x)] = '' "
   ]
  },
  {
   "cell_type": "code",
   "execution_count": 33,
   "metadata": {},
   "outputs": [
    {
     "data": {
      "text/plain": [
       "{'label_0': ['2259'],\n",
       " 'label_1': ['2157'],\n",
       " 'label_2': ['2442'],\n",
       " 'label_3': ['332'],\n",
       " 'label_4': ['234'],\n",
       " 'label_5': ['972'],\n",
       " 'label_6': ['721'],\n",
       " 'label_7': ['736'],\n",
       " 'label_8': ['410'],\n",
       " 'label_9': ['176']}"
      ]
     },
     "execution_count": 33,
     "metadata": {},
     "output_type": "execute_result"
    }
   ],
   "source": [
    "d"
   ]
  },
  {
   "cell_type": "markdown",
   "metadata": {},
   "source": [
    "# Step 3: Prepare Training Set  (repeat after step 5 )"
   ]
  },
  {
   "cell_type": "code",
   "execution_count": 48,
   "metadata": {},
   "outputs": [
    {
     "data": {
      "application/javascript": [
       "\n",
       "            var kernel = IPython.notebook.kernel;\n",
       "            for (var i=0; i<localStorage.length; i++) {\n",
       "                var key = localStorage.key(i);\n",
       "                var existingItem = localStorage.getItem(key);\n",
       "                var var_name = key;\n",
       "                if (key === null) {\n",
       "                    continue\n",
       "                }\n",
       "                var values = existingItem.split(',')\n",
       "                for (var j=0; j<values.length; j++) {\n",
       "                    var command = \"d['\" + var_name + \"'] += ['\" + values[j] + \"']\";\n",
       "                    kernel.execute(command);\n",
       "                    kernel.execute(\"d['\" + var_name + \"'] = list(set(d['\" + var_name + \"']))\");\n",
       "                }\n",
       "            }\n",
       "        "
      ],
      "text/plain": [
       "<IPython.core.display.Javascript object>"
      ]
     },
     "execution_count": 48,
     "metadata": {},
     "output_type": "execute_result"
    }
   ],
   "source": [
    "fc.create_labeled_variables('d')"
   ]
  },
  {
   "cell_type": "code",
   "execution_count": 49,
   "metadata": {},
   "outputs": [
    {
     "name": "stdout",
     "output_type": "stream",
     "text": [
      "{'label_4': ['216', '1269', '1268', '1093', '1824', '234', '1911', '1910', '1395', '1897', '284', '1917', '804'], 'label_5': ['2454', '760', '2436', '1127', '1858', '2203', '972', '695', '1779', '1856', '345', '1177', '2200', '1799', '1215', '1130', '1151', '1796', '1865', '1867', '2189', '724', '1682', '2416', '1413', '359'], 'label_6': ['1704', '1828', '896', '1847', '1153', '1671', '1875', '1102', '721', '829', '1508', '821', '1005', '1879'], 'label_7': ['1234', '1226', '1553', '887', '1051', '1120', '1218', '1273', '1274', '1125', '736', '1676'], 'label_0': ['1160', '1983', '1188', '2463', '2259', '1822', '380', '353', '1451', '2400', '2258', '2014', '770', '1882', '1172'], 'label_1': ['2136', '2395', '2413', '2157', '2393', '1376', '2399', '2106', '2409'], 'label_2': ['2442', '975', '1556', '581', '2180', '1533', '2021', '1686', '1016', '72'], 'label_3': ['1961', '332', '498', '1473', '2226', '1778', '2111', '423', '2261', '1390', '449', '1098', '1912', '1598', '481', '1042', '2277', '2273', '1624', '1964', '2026', '2375', '2100'], 'label_8': ['832', '1622', '1831', '1540', '1057', '1190', '570', '1610', '1134', '410', '984', '6', '2290', '1895', '1334'], 'label_9': ['1087', '1323', '338', '2294', '88', '176', '1713', '2099', '231', '1775', '1830', '1812', '1402', '1698', '200', '263', '98', '1492', '2043', '258', '2013', '1003']}\n"
     ]
    }
   ],
   "source": [
    "print d"
   ]
  },
  {
   "cell_type": "code",
   "execution_count": 50,
   "metadata": {},
   "outputs": [
    {
     "data": {
      "text/html": [
       "<div>\n",
       "<style scoped>\n",
       "    .dataframe tbody tr th:only-of-type {\n",
       "        vertical-align: middle;\n",
       "    }\n",
       "\n",
       "    .dataframe tbody tr th {\n",
       "        vertical-align: top;\n",
       "    }\n",
       "\n",
       "    .dataframe thead th {\n",
       "        text-align: right;\n",
       "    }\n",
       "</style>\n",
       "<table border=\"1\" class=\"dataframe\">\n",
       "  <thead>\n",
       "    <tr style=\"text-align: right;\">\n",
       "      <th></th>\n",
       "      <th>Id</th>\n",
       "      <th>Labels</th>\n",
       "      <th>ProbOne</th>\n",
       "      <th>ProbZeros</th>\n",
       "      <th>ProbTwos</th>\n",
       "      <th>ProbThrees</th>\n",
       "      <th>ProbFours</th>\n",
       "      <th>ProbFives</th>\n",
       "      <th>ProbSixs</th>\n",
       "      <th>ProbSevens</th>\n",
       "      <th>ProbEights</th>\n",
       "      <th>ProbNines</th>\n",
       "      <th>IsTraining</th>\n",
       "    </tr>\n",
       "  </thead>\n",
       "  <tbody>\n",
       "    <tr>\n",
       "      <th>0</th>\n",
       "      <td>0</td>\n",
       "      <td>label_3</td>\n",
       "      <td>0.18</td>\n",
       "      <td>0.00</td>\n",
       "      <td>0.00</td>\n",
       "      <td>0.26</td>\n",
       "      <td>0.04</td>\n",
       "      <td>0.20</td>\n",
       "      <td>0.16</td>\n",
       "      <td>0.08</td>\n",
       "      <td>0.04</td>\n",
       "      <td>0.04</td>\n",
       "      <td>-1</td>\n",
       "    </tr>\n",
       "    <tr>\n",
       "      <th>1</th>\n",
       "      <td>1</td>\n",
       "      <td>label_1</td>\n",
       "      <td>0.84</td>\n",
       "      <td>0.00</td>\n",
       "      <td>0.02</td>\n",
       "      <td>0.00</td>\n",
       "      <td>0.02</td>\n",
       "      <td>0.00</td>\n",
       "      <td>0.00</td>\n",
       "      <td>0.06</td>\n",
       "      <td>0.06</td>\n",
       "      <td>0.00</td>\n",
       "      <td>-1</td>\n",
       "    </tr>\n",
       "    <tr>\n",
       "      <th>2</th>\n",
       "      <td>2</td>\n",
       "      <td>label_1</td>\n",
       "      <td>0.18</td>\n",
       "      <td>0.08</td>\n",
       "      <td>0.02</td>\n",
       "      <td>0.12</td>\n",
       "      <td>0.16</td>\n",
       "      <td>0.14</td>\n",
       "      <td>0.12</td>\n",
       "      <td>0.06</td>\n",
       "      <td>0.02</td>\n",
       "      <td>0.10</td>\n",
       "      <td>-1</td>\n",
       "    </tr>\n",
       "    <tr>\n",
       "      <th>3</th>\n",
       "      <td>3</td>\n",
       "      <td>label_4</td>\n",
       "      <td>0.02</td>\n",
       "      <td>0.02</td>\n",
       "      <td>0.06</td>\n",
       "      <td>0.02</td>\n",
       "      <td>0.46</td>\n",
       "      <td>0.06</td>\n",
       "      <td>0.06</td>\n",
       "      <td>0.04</td>\n",
       "      <td>0.06</td>\n",
       "      <td>0.20</td>\n",
       "      <td>-1</td>\n",
       "    </tr>\n",
       "    <tr>\n",
       "      <th>4</th>\n",
       "      <td>4</td>\n",
       "      <td>label_1</td>\n",
       "      <td>0.26</td>\n",
       "      <td>0.00</td>\n",
       "      <td>0.10</td>\n",
       "      <td>0.14</td>\n",
       "      <td>0.04</td>\n",
       "      <td>0.06</td>\n",
       "      <td>0.08</td>\n",
       "      <td>0.02</td>\n",
       "      <td>0.22</td>\n",
       "      <td>0.08</td>\n",
       "      <td>-1</td>\n",
       "    </tr>\n",
       "  </tbody>\n",
       "</table>\n",
       "</div>"
      ],
      "text/plain": [
       "   Id   Labels  ProbOne  ProbZeros  ProbTwos  ProbThrees  ProbFours  \\\n",
       "0   0  label_3     0.18       0.00      0.00        0.26       0.04   \n",
       "1   1  label_1     0.84       0.00      0.02        0.00       0.02   \n",
       "2   2  label_1     0.18       0.08      0.02        0.12       0.16   \n",
       "3   3  label_4     0.02       0.02      0.06        0.02       0.46   \n",
       "4   4  label_1     0.26       0.00      0.10        0.14       0.04   \n",
       "\n",
       "   ProbFives  ProbSixs  ProbSevens  ProbEights  ProbNines IsTraining  \n",
       "0       0.20      0.16        0.08        0.04       0.04         -1  \n",
       "1       0.00      0.00        0.06        0.06       0.00         -1  \n",
       "2       0.14      0.12        0.06        0.02       0.10         -1  \n",
       "3       0.06      0.06        0.04        0.06       0.20         -1  \n",
       "4       0.06      0.08        0.02        0.22       0.08         -1  "
      ]
     },
     "execution_count": 50,
     "metadata": {},
     "output_type": "execute_result"
    }
   ],
   "source": [
    "df.head()"
   ]
  },
  {
   "cell_type": "code",
   "execution_count": 51,
   "metadata": {},
   "outputs": [
    {
     "data": {
      "text/plain": [
       "{'1003': 'label_9',\n",
       " '1005': 'label_6',\n",
       " '1016': 'label_2',\n",
       " '1042': 'label_3',\n",
       " '1051': 'label_7',\n",
       " '1057': 'label_8',\n",
       " '1087': 'label_9',\n",
       " '1093': 'label_4',\n",
       " '1098': 'label_3',\n",
       " '1102': 'label_6',\n",
       " '1120': 'label_7',\n",
       " '1125': 'label_7',\n",
       " '1127': 'label_5',\n",
       " '1130': 'label_5',\n",
       " '1134': 'label_8',\n",
       " '1151': 'label_5',\n",
       " '1153': 'label_6',\n",
       " '1160': 'label_0',\n",
       " '1172': 'label_0',\n",
       " '1177': 'label_5',\n",
       " '1188': 'label_0',\n",
       " '1190': 'label_8',\n",
       " '1215': 'label_5',\n",
       " '1218': 'label_7',\n",
       " '1226': 'label_7',\n",
       " '1234': 'label_7',\n",
       " '1268': 'label_4',\n",
       " '1269': 'label_4',\n",
       " '1273': 'label_7',\n",
       " '1274': 'label_7',\n",
       " '1323': 'label_9',\n",
       " '1334': 'label_8',\n",
       " '1376': 'label_1',\n",
       " '1390': 'label_3',\n",
       " '1395': 'label_4',\n",
       " '1402': 'label_9',\n",
       " '1413': 'label_5',\n",
       " '1451': 'label_0',\n",
       " '1473': 'label_3',\n",
       " '1492': 'label_9',\n",
       " '1508': 'label_6',\n",
       " '1533': 'label_2',\n",
       " '1540': 'label_8',\n",
       " '1553': 'label_7',\n",
       " '1556': 'label_2',\n",
       " '1598': 'label_3',\n",
       " '1610': 'label_8',\n",
       " '1622': 'label_8',\n",
       " '1624': 'label_3',\n",
       " '1671': 'label_6',\n",
       " '1676': 'label_7',\n",
       " '1682': 'label_5',\n",
       " '1686': 'label_2',\n",
       " '1698': 'label_9',\n",
       " '1704': 'label_6',\n",
       " '1713': 'label_9',\n",
       " '176': 'label_9',\n",
       " '1775': 'label_9',\n",
       " '1778': 'label_3',\n",
       " '1779': 'label_5',\n",
       " '1796': 'label_5',\n",
       " '1799': 'label_5',\n",
       " '1812': 'label_9',\n",
       " '1822': 'label_0',\n",
       " '1824': 'label_4',\n",
       " '1828': 'label_6',\n",
       " '1830': 'label_9',\n",
       " '1831': 'label_8',\n",
       " '1847': 'label_6',\n",
       " '1856': 'label_5',\n",
       " '1858': 'label_5',\n",
       " '1865': 'label_5',\n",
       " '1867': 'label_5',\n",
       " '1875': 'label_6',\n",
       " '1879': 'label_6',\n",
       " '1882': 'label_0',\n",
       " '1895': 'label_8',\n",
       " '1897': 'label_4',\n",
       " '1910': 'label_4',\n",
       " '1911': 'label_4',\n",
       " '1912': 'label_3',\n",
       " '1917': 'label_4',\n",
       " '1961': 'label_3',\n",
       " '1964': 'label_3',\n",
       " '1983': 'label_0',\n",
       " '200': 'label_9',\n",
       " '2013': 'label_9',\n",
       " '2014': 'label_0',\n",
       " '2021': 'label_2',\n",
       " '2026': 'label_3',\n",
       " '2043': 'label_9',\n",
       " '2099': 'label_9',\n",
       " '2100': 'label_3',\n",
       " '2106': 'label_1',\n",
       " '2111': 'label_3',\n",
       " '2136': 'label_1',\n",
       " '2157': 'label_1',\n",
       " '216': 'label_4',\n",
       " '2180': 'label_2',\n",
       " '2189': 'label_5',\n",
       " '2200': 'label_5',\n",
       " '2203': 'label_5',\n",
       " '2226': 'label_3',\n",
       " '2258': 'label_0',\n",
       " '2259': 'label_0',\n",
       " '2261': 'label_3',\n",
       " '2273': 'label_3',\n",
       " '2277': 'label_3',\n",
       " '2290': 'label_8',\n",
       " '2294': 'label_9',\n",
       " '231': 'label_9',\n",
       " '234': 'label_4',\n",
       " '2375': 'label_3',\n",
       " '2393': 'label_1',\n",
       " '2395': 'label_1',\n",
       " '2399': 'label_1',\n",
       " '2400': 'label_0',\n",
       " '2409': 'label_1',\n",
       " '2413': 'label_1',\n",
       " '2416': 'label_5',\n",
       " '2436': 'label_5',\n",
       " '2442': 'label_2',\n",
       " '2454': 'label_5',\n",
       " '2463': 'label_0',\n",
       " '258': 'label_9',\n",
       " '263': 'label_9',\n",
       " '284': 'label_4',\n",
       " '332': 'label_3',\n",
       " '338': 'label_9',\n",
       " '345': 'label_5',\n",
       " '353': 'label_0',\n",
       " '359': 'label_5',\n",
       " '380': 'label_0',\n",
       " '410': 'label_8',\n",
       " '423': 'label_3',\n",
       " '449': 'label_3',\n",
       " '481': 'label_3',\n",
       " '498': 'label_3',\n",
       " '570': 'label_8',\n",
       " '581': 'label_2',\n",
       " '6': 'label_8',\n",
       " '695': 'label_5',\n",
       " '72': 'label_2',\n",
       " '721': 'label_6',\n",
       " '724': 'label_5',\n",
       " '736': 'label_7',\n",
       " '760': 'label_5',\n",
       " '770': 'label_0',\n",
       " '804': 'label_4',\n",
       " '821': 'label_6',\n",
       " '829': 'label_6',\n",
       " '832': 'label_8',\n",
       " '88': 'label_9',\n",
       " '887': 'label_7',\n",
       " '896': 'label_6',\n",
       " '972': 'label_5',\n",
       " '975': 'label_2',\n",
       " '98': 'label_9',\n",
       " '984': 'label_8'}"
      ]
     },
     "execution_count": 51,
     "metadata": {},
     "output_type": "execute_result"
    }
   ],
   "source": [
    "omit_d = {}\n",
    "for x in d:\n",
    "    for y in  d[x]:\n",
    "        omit_d[y] = x\n",
    "omit_d"
   ]
  },
  {
   "cell_type": "code",
   "execution_count": 52,
   "metadata": {},
   "outputs": [],
   "source": [
    "df['Omit'] = df.Id.apply(lambda x: omit_d[str(x)]  if str(x) in omit_d else -1)"
   ]
  },
  {
   "cell_type": "code",
   "execution_count": 53,
   "metadata": {},
   "outputs": [
    {
     "data": {
      "text/plain": [
       "-1         2341\n",
       "label_5      26\n",
       "label_3      23\n",
       "label_9      22\n",
       "label_8      15\n",
       "label_0      15\n",
       "label_6      14\n",
       "label_4      13\n",
       "label_7      12\n",
       "label_2      10\n",
       "label_1       9\n",
       "Name: Omit, dtype: int64"
      ]
     },
     "execution_count": 53,
     "metadata": {},
     "output_type": "execute_result"
    }
   ],
   "source": [
    "df.Omit.value_counts()"
   ]
  },
  {
   "cell_type": "markdown",
   "metadata": {},
   "source": [
    "# Step 4: Training Model  (repeat after step 3)"
   ]
  },
  {
   "cell_type": "code",
   "execution_count": 54,
   "metadata": {},
   "outputs": [],
   "source": [
    "df_train = df.copy()\n",
    "one_dim = x_test.reshape(x_test.shape[0], 28*28)\n",
    "df_train['Features'] = [one_dim[i].tolist() for i in range(x_test.shape[0])]\n",
    "df_tmp = df_train[df_train.Omit != -1]\n",
    "df_tmp = df_train[df_train.Omit != -1]\n",
    "X = df_tmp.Features.values.tolist()\n",
    "Y = df_tmp.Omit.apply(lambda x: x).values\n",
    "from sklearn.ensemble import RandomForestClassifier\n",
    "clf = RandomForestClassifier(n_estimators=50)\n",
    "clf = clf.fit(X, Y)\n",
    "p_arr = clf.predict_proba(df_train.Features.values.tolist())\n",
    "_labels = clf.predict(df_train.Features.values.tolist())\n",
    "zero_prob = [x[0] for x in p_arr]\n",
    "one_prob = [x[1] for x in p_arr]\n",
    "two_prob = [x[2] for x in p_arr]\n",
    "three_prob = [x[3] for x in p_arr]\n",
    "four_prob = [x[4] for x in p_arr]\n",
    "five_prob = [x[5] for x in p_arr]\n",
    "six_prob = [x[6] for x in p_arr]\n",
    "seven_prob = [x[7] for x in p_arr]\n",
    "eight_prob = [x[8] for x in p_arr]\n",
    "nine_prob = [x[9] for x in p_arr]\n",
    "df = pd.DataFrame()\n",
    "df['Id'] = [x for x in range(len(x_test))]\n",
    "df['Labels'] = _labels\n",
    "df['ProbOne'] = one_prob\n",
    "df['ProbZeros'] = zero_prob\n",
    "df['ProbTwos'] = two_prob\n",
    "df['ProbThrees'] = three_prob\n",
    "df['ProbFours'] = four_prob\n",
    "df['ProbFives'] = five_prob\n",
    "df['ProbSixs'] = six_prob\n",
    "df['ProbSevens'] = seven_prob\n",
    "df['ProbEights'] = eight_prob\n",
    "df['ProbNines'] = nine_prob\n",
    "df['IsTraining'] = df_train.Omit"
   ]
  },
  {
   "cell_type": "markdown",
   "metadata": {},
   "source": [
    "# Step 5: Visualize With new Predictions (repeat after step 4)\n",
    "* Improve the predictions by taging more examples"
   ]
  },
  {
   "cell_type": "code",
   "execution_count": 55,
   "metadata": {},
   "outputs": [],
   "source": [
    "jsonstr = df.to_json(orient='records')\n",
    "\n",
    "fc = Facets()\n",
    "fc.create_classes(labels=['label_' + str(x) for x in range(0,10)])\n",
    "fc.define_atlas(df, sprite_width=28, sprite_height=28, atlas_url='atlas.jpg')\n",
    "fc.render_html('testing.html')"
   ]
  },
  {
   "cell_type": "markdown",
   "metadata": {},
   "source": [
    "# [Click to Label](testing.html)\n",
    "* Sort and arrange data by label <img src=\"screenshots/arrange_data.png\">\n",
    "* Label Images By Clicking\n",
    "* The sorting will help to find better examples and find where model is making mistakes\n",
    "* Have 7-9 good examples for each digits\n",
    "* Must have at least one good example for each digit for this notebook to work\n"
   ]
  },
  {
   "cell_type": "code",
   "execution_count": null,
   "metadata": {},
   "outputs": [],
   "source": []
  }
 ],
 "metadata": {
  "kernelspec": {
   "display_name": "Python 2",
   "language": "python",
   "name": "python2"
  },
  "language_info": {
   "codemirror_mode": {
    "name": "ipython",
    "version": 2
   },
   "file_extension": ".py",
   "mimetype": "text/x-python",
   "name": "python",
   "nbconvert_exporter": "python",
   "pygments_lexer": "ipython2",
   "version": "2.7.12"
  }
 },
 "nbformat": 4,
 "nbformat_minor": 2
}
